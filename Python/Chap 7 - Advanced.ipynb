{
 "cells": [
  {
   "cell_type": "markdown",
   "metadata": {},
   "source": [
    "<h2>Lambda Functions</h2>"
   ]
  },
  {
   "cell_type": "markdown",
   "metadata": {},
   "source": [
    "A lambda function is a small anonymous function that is executed within the line. \n",
    "\n",
    "A lambda function can take any number of arguments, but can only have one expression."
   ]
  },
  {
   "cell_type": "code",
   "execution_count": 5,
   "metadata": {},
   "outputs": [
    {
     "name": "stdout",
     "output_type": "stream",
     "text": [
      "300\n"
     ]
    }
   ],
   "source": [
    "products = {\"Watch\": 200}\n",
    "\n",
    "# increase price of watch by 100\n",
    "# lambda variable\n",
    "\n",
    "priceInc = lambda x: x[\"Watch\"] + 100\n",
    "\n",
    "products = priceInc(products)\n",
    "\n",
    "print (products)"
   ]
  },
  {
   "cell_type": "markdown",
   "metadata": {},
   "source": [
    "Advanced usage of lambda"
   ]
  },
  {
   "cell_type": "code",
   "execution_count": 1,
   "metadata": {},
   "outputs": [
    {
     "name": "stdout",
     "output_type": "stream",
     "text": [
      "Sorted by price:\n",
      "Watch: $200\n",
      "Tablet: $400\n",
      "Phone: $600\n",
      "Laptop: $800\n",
      "\n",
      "Expensive products:\n",
      "Laptop: $800\n",
      "Phone: $600\n"
     ]
    }
   ],
   "source": [
    "# Real-world: Sorting and filtering\n",
    "products = [\n",
    "    {\"name\": \"Laptop\", \"price\": 800},\n",
    "    {\"name\": \"Phone\", \"price\": 600},\n",
    "    {\"name\": \"Tablet\", \"price\": 400},\n",
    "    {\"name\": \"Watch\", \"price\": 200}\n",
    "]\n",
    "\n",
    "# Sort by price\n",
    "sorted_products = sorted(products, key=lambda x: x[\"price\"])\n",
    "print(\"Sorted by price:\")\n",
    "for product in sorted_products:\n",
    "    print(f\"{product['name']}: ${product['price']}\")\n",
    "\n",
    "# Filter expensive products\n",
    "expensive_products = list(filter(lambda x: x[\"price\"] > 500, products))\n",
    "print(\"\\nExpensive products:\")\n",
    "for product in expensive_products:\n",
    "    print(f\"{product['name']}: ${product['price']}\")"
   ]
  },
  {
   "cell_type": "markdown",
   "metadata": {},
   "source": [
    "<h2>Decorators</h2>"
   ]
  },
  {
   "cell_type": "markdown",
   "metadata": {},
   "source": [
    "\n",
    "Decorators let you add extra behavior to a function, without changing the function's code.\n",
    "\n",
    "A decorator is a function that takes another function as input and returns a new function."
   ]
  },
  {
   "cell_type": "markdown",
   "metadata": {},
   "source": [
    "Adding a custom timer and logger to another function called process_data. Decorators can be applied using @"
   ]
  },
  {
   "cell_type": "code",
   "execution_count": null,
   "metadata": {},
   "outputs": [
    {
     "name": "stdout",
     "output_type": "stream",
     "text": [
      "Calling process_data with args: ([1, 2, 3, 4],), kwargs: {'multiplier': 2}\n",
      "process_data executed in 0.1051 seconds\n",
      "Result: [2, 4, 6, 8]\n"
     ]
    }
   ],
   "source": [
    "# Real-world: Logging and timing functions\n",
    "import time\n",
    "from functools import wraps\n",
    "\n",
    "def timer(func):\n",
    "    \"\"\"Decorator to measure function execution time\"\"\"\n",
    "    @wraps(func)\n",
    "    def wrapper(*args, **kwargs):\n",
    "        start_time = time.time()\n",
    "        result = func(*args, **kwargs)\n",
    "        end_time = time.time()\n",
    "        print(f\"{func.__name__} executed in {end_time - start_time:.4f} seconds\")\n",
    "        return result\n",
    "    return wrapper\n",
    "\n",
    "def log_arguments(func):\n",
    "    \"\"\"Decorator to log function arguments\"\"\"\n",
    "    @wraps(func)\n",
    "    def wrapper(*args, **kwargs):\n",
    "        print(f\"Calling {func.__name__} with args: {args}, kwargs: {kwargs}\")\n",
    "        return func(*args, **kwargs)\n",
    "    return wrapper\n",
    "\n",
    "@timer\n",
    "@log_arguments\n",
    "def process_data(data, multiplier=1):\n",
    "    \"\"\"Simulate data processing\"\"\"\n",
    "    time.sleep(0.1)  # Simulate work\n",
    "    return [item * multiplier for item in data]\n",
    "\n",
    "# Using decorated function\n",
    "result = process_data([1, 2, 3, 4], multiplier=2)\n",
    "print(f\"Result: {result}\")"
   ]
  },
  {
   "cell_type": "markdown",
   "metadata": {},
   "source": [
    "<h2>Generators</h2>"
   ]
  },
  {
   "cell_type": "markdown",
   "metadata": {},
   "source": [
    "Imagine you're reading a really long book. You don't need to have the entire book memorized at once - you just read one page at a time. Generators work exactly like that!\n",
    "\n",
    "They're a special type of function that produces values one at a time instead of all at once.\n"
   ]
  },
  {
   "cell_type": "code",
   "execution_count": 7,
   "metadata": {},
   "outputs": [],
   "source": [
    "# DONOT EXECUTE THIS CODE\n",
    "def get_all_numbers():\n",
    "    numbers = []\n",
    "    for i in range(1000000):  # A MILLION numbers!\n",
    "        numbers.append(i)\n",
    "    return numbers  # Returns ALL numbers at once\n",
    "\n",
    "# This would use a LOT of memory!\n",
    "all_numbers = get_all_numbers()"
   ]
  },
  {
   "cell_type": "markdown",
   "metadata": {},
   "source": [
    "Instead of returning the complete list of a million numbers, we \"YIELD\" them one at a time. USe \"NEXT\" to move one step further. Generators are like pause buttons for functions. They give you one item, pause, then give the next item when you ask."
   ]
  },
  {
   "cell_type": "code",
   "execution_count": 10,
   "metadata": {},
   "outputs": [
    {
     "name": "stdout",
     "output_type": "stream",
     "text": [
      "0\n",
      "1\n"
     ]
    }
   ],
   "source": [
    "def generate_numbers():\n",
    "    for i in range(1000000):  # Still a million numbers\n",
    "        yield i  # Gives ONE number at a time\n",
    "\n",
    "# This uses almost no memory!\n",
    "number_generator = generate_numbers()\n",
    "print (next(number_generator))\n",
    "print (next(number_generator))"
   ]
  },
  {
   "cell_type": "markdown",
   "metadata": {},
   "source": [
    "Real-World Example: Netflix vs. DVD Box Set\n",
    "Regular lists are like getting a complete DVD box set - you get all episodes at once (uses lots of shelf space).\n",
    "\n",
    "Generators are like Netflix streaming - you get one episode at a time (uses very little space)."
   ]
  },
  {
   "cell_type": "code",
   "execution_count": null,
   "metadata": {},
   "outputs": [],
   "source": [
    "# Netflix-style generator\n",
    "def netflix_series():\n",
    "    episodes = [\"S1E1\", \"S1E2\", \"S1E3\", \"S1E4\", \"S1E5\"]\n",
    "    for episode in episodes:\n",
    "        print(f\"Loading {episode} from server...\")\n",
    "        yield episode  # Stream one episode\n",
    "\n",
    "# Watch one episode at a time\n",
    "watch = netflix_series()\n",
    "print(\"Now watching:\", next(watch))  # S1E1\n",
    "print(\"Now watching:\", next(watch))  # S1E2\n",
    "# You can pause and come back later!"
   ]
  },
  {
   "cell_type": "code",
   "execution_count": null,
   "metadata": {},
   "outputs": [],
   "source": [
    "# Think about your Instagram or Facebook feed - you don't load all posts ever made at once!\n",
    "\n",
    "def social_media_feed():\n",
    "    # Imagine this connects to a database with MILLIONS of posts\n",
    "    posts = [\"Post 1\", \"Post 2\", \"Post 3\", \"Post 4\", \"Post 5\"]\n",
    "    for post in posts:\n",
    "        # Simulate loading from server\n",
    "        print(\"Loading post from database...\")\n",
    "        yield post\n",
    "\n",
    "# Scroll through your feed\n",
    "feed = social_media_feed()\n",
    "print(\"Seeing:\", next(feed))  # Post 1\n",
    "print(\"Seeing:\", next(feed))  # Post 2\n",
    "# Keep scrolling when you're ready!"
   ]
  },
  {
   "cell_type": "code",
   "execution_count": null,
   "metadata": {},
   "outputs": [],
   "source": [
    "# Real-world: Large data processing - IoT Sensor data stream\n",
    "def read_large_file(filename):\n",
    "    \"\"\"Generator to read large files line by line\"\"\"\n",
    "    with open(filename, 'r') as file:\n",
    "        for line in file:\n",
    "            yield line.strip()\n",
    "\n",
    "# Simulate large file processing\n",
    "def generate_sensor_data():\n",
    "    \"\"\"Generator simulating sensor data\"\"\"\n",
    "    import random\n",
    "    while True:\n",
    "        yield {\n",
    "            \"temperature\": random.uniform(20, 30),\n",
    "            \"humidity\": random.uniform(40, 80),\n",
    "            \"timestamp\": \"2023-10-15\"\n",
    "        }\n",
    "\n",
    "# Using generator\n",
    "sensor = generate_sensor_data()\n",
    "print(\"Sample sensor readings:\")\n",
    "for _ in range(3):\n",
    "    print(next(sensor))"
   ]
  },
  {
   "cell_type": "markdown",
   "metadata": {},
   "source": [
    "Key Benefits:\n",
    "- Memory Efficient: Don't need to store everything at once\n",
    "- Lazy Evaluation: Only compute what you need, when you need it\n",
    "- Can Represent Infinite Streams: Like a never-ending sensor reading"
   ]
  },
  {
   "cell_type": "code",
   "execution_count": null,
   "metadata": {},
   "outputs": [],
   "source": []
  },
  {
   "cell_type": "markdown",
   "metadata": {},
   "source": [
    "<h3>namedtuple()</h3>"
   ]
  },
  {
   "cell_type": "markdown",
   "metadata": {},
   "source": []
  },
  {
   "cell_type": "markdown",
   "metadata": {},
   "source": [
    "<h3>Dequeue</h3>"
   ]
  }
 ],
 "metadata": {
  "kernelspec": {
   "display_name": "Python 3",
   "language": "python",
   "name": "python3"
  },
  "language_info": {
   "codemirror_mode": {
    "name": "ipython",
    "version": 3
   },
   "file_extension": ".py",
   "mimetype": "text/x-python",
   "name": "python",
   "nbconvert_exporter": "python",
   "pygments_lexer": "ipython3",
   "version": "3.11.2"
  }
 },
 "nbformat": 4,
 "nbformat_minor": 2
}
