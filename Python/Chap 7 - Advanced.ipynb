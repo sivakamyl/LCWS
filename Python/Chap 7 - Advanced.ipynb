{
 "cells": [
  {
   "cell_type": "markdown",
   "metadata": {},
   "source": [
    "<h2>Lambda Functions</h2>"
   ]
  },
  {
   "cell_type": "markdown",
   "metadata": {},
   "source": [
    "A lambda function is a small anonymous function that is executed within the line. \n",
    "\n",
    "A lambda function can take any number of arguments, but can only have one expression."
   ]
  },
  {
   "cell_type": "code",
   "execution_count": 5,
   "metadata": {},
   "outputs": [
    {
     "name": "stdout",
     "output_type": "stream",
     "text": [
      "300\n"
     ]
    }
   ],
   "source": [
    "products = {\"Watch\": 200}\n",
    "\n",
    "# increase price of watch by 100\n",
    "# lambda variable\n",
    "\n",
    "priceInc = lambda x: x[\"Watch\"] + 100\n",
    "\n",
    "products = priceInc(products)\n",
    "\n",
    "print (products)"
   ]
  },
  {
   "cell_type": "markdown",
   "metadata": {},
   "source": [
    "Advanced usage of lambda"
   ]
  },
  {
   "cell_type": "code",
   "execution_count": 1,
   "metadata": {},
   "outputs": [
    {
     "name": "stdout",
     "output_type": "stream",
     "text": [
      "Sorted by price:\n",
      "Watch: $200\n",
      "Tablet: $400\n",
      "Phone: $600\n",
      "Laptop: $800\n",
      "\n",
      "Expensive products:\n",
      "Laptop: $800\n",
      "Phone: $600\n"
     ]
    }
   ],
   "source": [
    "# Real-world: Sorting and filtering\n",
    "products = [\n",
    "    {\"name\": \"Laptop\", \"price\": 800},\n",
    "    {\"name\": \"Phone\", \"price\": 600},\n",
    "    {\"name\": \"Tablet\", \"price\": 400},\n",
    "    {\"name\": \"Watch\", \"price\": 200}\n",
    "]\n",
    "\n",
    "# Sort by price\n",
    "sorted_products = sorted(products, key=lambda x: x[\"price\"])\n",
    "print(\"Sorted by price:\")\n",
    "for product in sorted_products:\n",
    "    print(f\"{product['name']}: ${product['price']}\")\n",
    "\n",
    "# Filter expensive products\n",
    "expensive_products = list(filter(lambda x: x[\"price\"] > 500, products))\n",
    "print(\"\\nExpensive products:\")\n",
    "for product in expensive_products:\n",
    "    print(f\"{product['name']}: ${product['price']}\")"
   ]
  },
  {
   "cell_type": "markdown",
   "metadata": {},
   "source": [
    "<h2>Decorators</h2>"
   ]
  },
  {
   "cell_type": "markdown",
   "metadata": {},
   "source": [
    "\n",
    "Decorators let you add extra behavior to a function, without changing the function's code.\n",
    "\n",
    "A decorator is a function that takes another function as input and returns a new function."
   ]
  },
  {
   "cell_type": "markdown",
   "metadata": {},
   "source": [
    "Adding a custom timer and logger to another function called process_data. Decorators can be applied using @"
   ]
  },
  {
   "cell_type": "code",
   "execution_count": null,
   "metadata": {},
   "outputs": [
    {
     "name": "stdout",
     "output_type": "stream",
     "text": [
      "Calling process_data with args: ([1, 2, 3, 4],), kwargs: {'multiplier': 2}\n",
      "process_data executed in 0.1051 seconds\n",
      "Result: [2, 4, 6, 8]\n"
     ]
    }
   ],
   "source": [
    "# Real-world: Logging and timing functions\n",
    "import time\n",
    "from functools import wraps\n",
    "\n",
    "def timer(func):\n",
    "    \"\"\"Decorator to measure function execution time\"\"\"\n",
    "    @wraps(func)\n",
    "    def wrapper(*args, **kwargs):\n",
    "        start_time = time.time()\n",
    "        result = func(*args, **kwargs)\n",
    "        end_time = time.time()\n",
    "        print(f\"{func.__name__} executed in {end_time - start_time:.4f} seconds\")\n",
    "        return result\n",
    "    return wrapper\n",
    "\n",
    "def log_arguments(func):\n",
    "    \"\"\"Decorator to log function arguments\"\"\"\n",
    "    @wraps(func)\n",
    "    def wrapper(*args, **kwargs):\n",
    "        print(f\"Calling {func.__name__} with args: {args}, kwargs: {kwargs}\")\n",
    "        return func(*args, **kwargs)\n",
    "    return wrapper\n",
    "\n",
    "@timer\n",
    "@log_arguments\n",
    "def process_data(data, multiplier=1):\n",
    "    \"\"\"Simulate data processing\"\"\"\n",
    "    time.sleep(0.1)  # Simulate work\n",
    "    return [item * multiplier for item in data]\n",
    "\n",
    "# Using decorated function\n",
    "result = process_data([1, 2, 3, 4], multiplier=2)\n",
    "print(f\"Result: {result}\")"
   ]
  },
  {
   "cell_type": "markdown",
   "metadata": {},
   "source": [
    "<h2>Generators</h2>"
   ]
  },
  {
   "cell_type": "markdown",
   "metadata": {},
   "source": [
    "Imagine you're reading a really long book. You don't need to have the entire book memorized at once - you just read one page at a time. Generators work exactly like that!\n",
    "\n",
    "They're a special type of function that produces values one at a time instead of all at once.\n"
   ]
  },
  {
   "cell_type": "code",
   "execution_count": 7,
   "metadata": {},
   "outputs": [],
   "source": [
    "# DONOT EXECUTE THIS CODE\n",
    "def get_all_numbers():\n",
    "    numbers = []\n",
    "    for i in range(1000000):  # A MILLION numbers!\n",
    "        numbers.append(i)\n",
    "    return numbers  # Returns ALL numbers at once\n",
    "\n",
    "# This would use a LOT of memory!\n",
    "all_numbers = get_all_numbers()"
   ]
  },
  {
   "cell_type": "markdown",
   "metadata": {},
   "source": [
    "Instead of returning the complete list of a million numbers, we \"YIELD\" them one at a time. USe \"NEXT\" to move one step further. Generators are like pause buttons for functions. They give you one item, pause, then give the next item when you ask."
   ]
  },
  {
   "cell_type": "code",
   "execution_count": 10,
   "metadata": {},
   "outputs": [
    {
     "name": "stdout",
     "output_type": "stream",
     "text": [
      "0\n",
      "1\n"
     ]
    }
   ],
   "source": [
    "def generate_numbers():\n",
    "    for i in range(1000000):  # Still a million numbers\n",
    "        yield i  # Gives ONE number at a time\n",
    "\n",
    "# This uses almost no memory!\n",
    "number_generator = generate_numbers()\n",
    "print (next(number_generator))\n",
    "print (next(number_generator))"
   ]
  },
  {
   "cell_type": "markdown",
   "metadata": {},
   "source": [
    "Real-World Example: Netflix vs. DVD Box Set\n",
    "Regular lists are like getting a complete DVD box set - you get all episodes at once (uses lots of shelf space).\n",
    "\n",
    "Generators are like Netflix streaming - you get one episode at a time (uses very little space)."
   ]
  },
  {
   "cell_type": "code",
   "execution_count": null,
   "metadata": {},
   "outputs": [],
   "source": [
    "# Netflix-style generator\n",
    "def netflix_series():\n",
    "    episodes = [\"S1E1\", \"S1E2\", \"S1E3\", \"S1E4\", \"S1E5\"]\n",
    "    for episode in episodes:\n",
    "        print(f\"Loading {episode} from server...\")\n",
    "        yield episode  # Stream one episode\n",
    "\n",
    "# Watch one episode at a time\n",
    "watch = netflix_series()\n",
    "print(\"Now watching:\", next(watch))  # S1E1\n",
    "print(\"Now watching:\", next(watch))  # S1E2\n",
    "# You can pause and come back later!"
   ]
  },
  {
   "cell_type": "code",
   "execution_count": null,
   "metadata": {},
   "outputs": [],
   "source": [
    "# Think about your Instagram or Facebook feed - you don't load all posts ever made at once!\n",
    "\n",
    "def social_media_feed():\n",
    "    # Imagine this connects to a database with MILLIONS of posts\n",
    "    posts = [\"Post 1\", \"Post 2\", \"Post 3\", \"Post 4\", \"Post 5\"]\n",
    "    for post in posts:\n",
    "        # Simulate loading from server\n",
    "        print(\"Loading post from database...\")\n",
    "        yield post\n",
    "\n",
    "# Scroll through your feed\n",
    "feed = social_media_feed()\n",
    "print(\"Seeing:\", next(feed))  # Post 1\n",
    "print(\"Seeing:\", next(feed))  # Post 2\n",
    "# Keep scrolling when you're ready!"
   ]
  },
  {
   "cell_type": "code",
   "execution_count": null,
   "metadata": {},
   "outputs": [],
   "source": [
    "# Real-world: Large data processing - IoT Sensor data stream\n",
    "def read_large_file(filename):\n",
    "    \"\"\"Generator to read large files line by line\"\"\"\n",
    "    with open(filename, 'r') as file:\n",
    "        for line in file:\n",
    "            yield line.strip()\n",
    "\n",
    "# Simulate large file processing\n",
    "def generate_sensor_data():\n",
    "    \"\"\"Generator simulating sensor data\"\"\"\n",
    "    import random\n",
    "    while True:\n",
    "        yield {\n",
    "            \"temperature\": random.uniform(20, 30),\n",
    "            \"humidity\": random.uniform(40, 80),\n",
    "            \"timestamp\": \"2023-10-15\"\n",
    "        }\n",
    "\n",
    "# Using generator\n",
    "sensor = generate_sensor_data()\n",
    "print(\"Sample sensor readings:\")\n",
    "for _ in range(3):\n",
    "    print(next(sensor))"
   ]
  },
  {
   "cell_type": "markdown",
   "metadata": {},
   "source": [
    "Key Benefits:\n",
    "- Memory Efficient: Don't need to store everything at once\n",
    "- Lazy Evaluation: Only compute what you need, when you need it\n",
    "- Can Represent Infinite Streams: Like a never-ending sensor reading"
   ]
  },
  {
   "cell_type": "markdown",
   "metadata": {},
   "source": [
    "<h2>RegEx</h2>"
   ]
  },
  {
   "cell_type": "markdown",
   "metadata": {},
   "source": [
    "Regex (short for Regular Expressions) is like a secret code that helps computers find patterns in text. It's like playing \"I Spy\" with words!"
   ]
  },
  {
   "cell_type": "markdown",
   "metadata": {},
   "source": [
    "Imagine you're a detective looking for email addresses in a big document. Instead of reading every word, you use your regex magnifying glass to find this pattern:\n",
    "\n",
    "\"some text + @ + some text + . + something\"\n",
    "\n",
    "# Without Regex (Hard way! 😫)\n",
    "text = \"Contact me at alice@email.com or bob@website.net\"\n",
    "# You'd have to manually look for the @ symbol and then check what's around it"
   ]
  },
  {
   "cell_type": "code",
   "execution_count": 2,
   "metadata": {},
   "outputs": [
    {
     "name": "stdout",
     "output_type": "stream",
     "text": [
      "['alice@email.com', 'bob1@website.net']\n"
     ]
    }
   ],
   "source": [
    "# With Regex (Easy way! 😎)\n",
    "import re # This is called a package. It has abstractions (pre-built code) that helps us find patterns\n",
    "\n",
    "text = \"Contact me at alice@email.com or bob@website.net\"\n",
    "\n",
    "# /S finds any character that is NOT a space or whitespace.\n",
    "emails = re.findall(r'\\S+@\\S+\\.\\S+', text) \n",
    "#                        ^             ^\n",
    "#                        |             |\n",
    "#                      pattern        string we need to find pattern in\n",
    " \n",
    "print(emails)  # Finds: ['alice@email.com', 'bob@website.net']"
   ]
  },
  {
   "cell_type": "markdown",
   "metadata": {},
   "source": [
    "## Complete Regex Cheat Sheet\n",
    "\n",
    "Here's a comprehensive list of regex patterns with explanations and examples:\n",
    "\n",
    "## 🔍 Character Classes\n",
    "\n",
    "| Pattern | Meaning | Example |\n",
    "|---------|---------|---------|\n",
    "| `.` | Any single character (except newline) | `a.c` matches \"abc\", \"a c\", \"a-c\" |\n",
    "| `\\d` | Any digit (0-9) | `\\d\\d` matches \"42\" in \"Room 42\" |\n",
    "| `\\D` | Any NON-digit character | `\\D\\D` matches \"Hi\" in \"Hi123\" |\n",
    "| `\\w` | Any word character (a-z, A-Z, 0-9, _) | `\\w+` matches \"hello\" in \"hello world\" |\n",
    "| `\\W` | Any NON-word character | `\\W` matches \"!\" in \"hello!\" |\n",
    "| `\\s` | Any whitespace character (space, tab, newline) | `a\\sb` matches \"a b\" |\n",
    "| `\\S` | Any NON-whitespace character | `\\S+` matches \"hello\" in \"hello world\" |\n",
    "| `[abc]` | Any character in the brackets | `[aeiou]` matches \"e\" in \"hello\" |\n",
    "| `[^abc]` | Any character NOT in the brackets | `[^aeiou]` matches \"h\" in \"hello\" |\n",
    "| `[a-z]` | Any character in the range | `[a-z]` matches \"h\" in \"Hello\" |\n",
    "\n",
    "## 🔢 Quantifiers\n",
    "\n",
    "| Pattern | Meaning | Example |\n",
    "|---------|---------|---------|\n",
    "| `*` | Zero or more of the previous | `lo*l` matches \"ll\" and \"lol\" |\n",
    "| `+` | One or more of the previous | `lo+l` matches \"lol\" but not \"ll\" |\n",
    "| `?` | Zero or one of the previous | `colou?r` matches \"color\" and \"colour\" |\n",
    "| `{n}` | Exactly n occurrences | `\\d{3}` matches \"123\" |\n",
    "| `{n,}` | n or more occurrences | `\\d{3,}` matches \"123\" and \"12345\" |\n",
    "| `{n,m}` | Between n and m occurrences | `\\d{3,5}` matches \"123\" and \"12345\" |\n",
    "\n",
    "## 📍 Position Anchors\n",
    "\n",
    "| Pattern | Meaning | Example |\n",
    "|---------|---------|---------|\n",
    "| `^` | Start of string/line | `^Hello` matches \"Hello\" at start |\n",
    "| `$` | End of string/line | `world$` matches \"world\" at end |\n",
    "| `\\b` | Word boundary | `\\bcat\\b` matches \"cat\" but not \"category\" |\n",
    "| `\\B` | NOT a word boundary | `\\Bcat\\B` matches \"category\" but not \"cat\" |\n",
    "\n",
    "## 🎯 Grouping and Capturing\n",
    "\n",
    "| Pattern | Meaning | Example |\n",
    "|---------|---------|---------|\n",
    "| `(abc)` | Capture group | `(abc)+` matches \"abcabc\" |\n",
    "| `(?:abc)` | Non-capturing group | `(?:abc)+` matches but doesn't capture |\n",
    "| `a|b` | Match a OR b | `cat|dog` matches \"cat\" or \"dog\" |\n",
    "| `\\1`, `\\2` | Backreference to group | `(\\w)\\1` matches \"oo\" in \"book\" |\n",
    "\n",
    "## 🔄 Lookarounds (Advanced)\n",
    "\n",
    "| Pattern | Meaning | Example |\n",
    "|---------|---------|---------|\n",
    "| `(?=abc)` | Positive lookahead | `\\d(?=px)` matches \"2\" in \"2px\" |\n",
    "| `(?!abc)` | Negative lookahead | `\\d(?!px)` matches \"2\" in \"2em\" |\n",
    "| `(?<=abc)` | Positive lookbehind | `(?<=\\$)\\d+` matches \"100\" in \"$100\" |\n",
    "| `(?<!abc)` | Negative lookbehind | `(?<!\\$)\\d+` matches \"100\" in \"¥100\" |\n",
    "\n",
    "## 💡 Special Characters\n",
    "\n",
    "| Pattern | Meaning | Example |\n",
    "|---------|---------|---------|\n",
    "| `\\t` | Tab character | `a\\tb` matches \"a[tab]b\" |\n",
    "| `\\n` | Newline character | `a\\nb` matches \"a[newline]b\" |\n",
    "| `\\r` | Carriage return | `a\\r\\nb` matches Windows newline |\n",
    "| `\\\\` | Literal backslash | `\\\\` matches \"\\\" |\n",
    "| `\\.` | Literal dot | `\\.` matches \".\" |\n",
    "| `\\+` | Literal plus | `\\+` matches \"+\" |\n",
    "| `\\*` | Literal asterisk | `\\*` matches \"*\" |\n",
    "| `\\?` | Literal question mark | `\\?` matches \"?\" |\n",
    "\n",
    "## 🎨 Flags/Modifiers\n",
    "\n",
    "| Flag | Meaning | Example |\n",
    "|------|---------|---------|\n",
    "| `i` | Case-insensitive | `/hello/i` matches \"Hello\" and \"HELLO\" |\n",
    "| `g` | Global search (find all) | `/a/g` finds all \"a\" characters |\n",
    "| `m` | Multiline mode | `/^a/m` matches \"a\" at start of each line |\n",
    "| `s` | Dot matches newline | `/a.b/s` matches \"a\\nb\" |\n"
   ]
  },
  {
   "cell_type": "code",
   "execution_count": 13,
   "metadata": {},
   "outputs": [
    {
     "name": "stdout",
     "output_type": "stream",
     "text": [
      "['123-456-7890', '987.654.3210']\n",
      "Only +91 numbers: ['+91-9876543210']\n"
     ]
    }
   ],
   "source": [
    "text = \"Call me at 123-456-7890 or 987.654.3210\"\n",
    "phones = re.findall(r'\\d{3}[-.]\\d{3}[-.]\\d{4}', text)\n",
    "print(phones)  # Finds: ['123-456-7890', '987.654.3210']\n",
    "\n",
    "text = \"Call me at +91-9876543210 or +1-123-456-7890 or +91-98765-43210\"\n",
    "\n",
    "# Only numbers starting with +91\n",
    "only_india = re.findall(r'\\+91[-\\s]?\\d{10}', text)\n",
    "print(\"Only +91 numbers:\", only_india)  # Finds: ['+91-9876543210', '+91-98765-43210']\n",
    "\n"
   ]
  },
  {
   "cell_type": "markdown",
   "metadata": {},
   "source": [
    "Finding hashtags"
   ]
  },
  {
   "cell_type": "code",
   "execution_count": 12,
   "metadata": {},
   "outputs": [
    {
     "name": "stdout",
     "output_type": "stream",
     "text": [
      "['#Python', '#Coding', '#100DaysOfCode']\n"
     ]
    }
   ],
   "source": [
    "text = \"I love #Python and #Coding is fun! #100DaysOfCode\"\n",
    "hashtags = re.findall(r'#\\w+', text)\n",
    "print(hashtags)  # Finds: ['#Python', '#Coding', '#100DaysOfCode']"
   ]
  },
  {
   "cell_type": "markdown",
   "metadata": {},
   "source": [
    "Password Checker"
   ]
  },
  {
   "cell_type": "code",
   "execution_count": 11,
   "metadata": {},
   "outputs": [
    {
     "name": "stdout",
     "output_type": "stream",
     "text": [
      "✅ Strong password!\n",
      "❌ Weak password!\n"
     ]
    }
   ],
   "source": [
    "def check_password(password):\n",
    "    # At least 8 chars, contains uppercase, lowercase, and number\n",
    "    if re.match(r'^(?=.*[a-z])(?=.*[A-Z])(?=.*\\d).{8,}$', password):\n",
    "        return \"✅ Strong password!\"\n",
    "    else:\n",
    "        return \"❌ Weak password!\"\n",
    "\n",
    "print(check_password(\"PPPython3\"))   # ✅\n",
    "print(check_password(\"weak\"))      # ❌"
   ]
  },
  {
   "cell_type": "markdown",
   "metadata": {},
   "source": [
    "Cumulative example"
   ]
  },
  {
   "cell_type": "code",
   "execution_count": null,
   "metadata": {},
   "outputs": [],
   "source": [
    "import re\n",
    "\n",
    "# Game: Find the hidden treasures in the text!\n",
    "text = \"\"\"\n",
    "I have 3 cats, 2 dogs, and 1 turtle. My phone number is (555) 123-4567.\n",
    "Visit my website at www.mysite.com or email me at friend@example.org!\n",
    "I have $25.50 in my pocket. My favorite colors are #FF0000 and #00FF00.\n",
    "\"\"\"\n",
    "\n",
    "# Your mission: Find these treasures!\n",
    "numbers = re.findall(r'\\d+', text)          # All numbers\n",
    "phones = re.findall(r'\\(\\d{3}\\) \\d{3}-\\d{4}', text)  # Phone numbers\n",
    "emails = re.findall(r'\\S+@\\S+\\.\\S+', text)  # Email addresses\n",
    "colors = re.findall(r'#\\w{6}', text)        # Color hex codes\n",
    "money = re.findall(r'\\$\\d+\\.\\d{2}', text)   # Money amounts\n",
    "\n",
    "print(\"Numbers found:\", numbers)\n",
    "print(\"Phone numbers:\", phones)\n",
    "print(\"Emails:\", emails)\n",
    "print(\"Colors:\", colors)\n",
    "print(\"Money:\", money)"
   ]
  }
 ],
 "metadata": {
  "kernelspec": {
   "display_name": "Python 3",
   "language": "python",
   "name": "python3"
  },
  "language_info": {
   "codemirror_mode": {
    "name": "ipython",
    "version": 3
   },
   "file_extension": ".py",
   "mimetype": "text/x-python",
   "name": "python",
   "nbconvert_exporter": "python",
   "pygments_lexer": "ipython3",
   "version": "3.11.2"
  }
 },
 "nbformat": 4,
 "nbformat_minor": 2
}
