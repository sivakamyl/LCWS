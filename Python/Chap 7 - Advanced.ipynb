{
 "cells": [
  {
   "cell_type": "markdown",
   "metadata": {},
   "source": [
    "<h2>Lambda Functions</h2>"
   ]
  },
  {
   "cell_type": "markdown",
   "metadata": {},
   "source": [
    "A lambda function is a small anonymous function that is executed within the line. \n",
    "\n",
    "A lambda function can take any number of arguments, but can only have one expression."
   ]
  },
  {
   "cell_type": "code",
   "execution_count": 5,
   "metadata": {},
   "outputs": [
    {
     "name": "stdout",
     "output_type": "stream",
     "text": [
      "300\n"
     ]
    }
   ],
   "source": [
    "products = {\"Watch\": 200}\n",
    "\n",
    "# increase price of watch by 100\n",
    "# lambda variable\n",
    "\n",
    "priceInc = lambda x: x[\"Watch\"] + 100\n",
    "\n",
    "products = priceInc(products)\n",
    "\n",
    "print (products)"
   ]
  },
  {
   "cell_type": "markdown",
   "metadata": {},
   "source": [
    "Advanced usage of lambda"
   ]
  },
  {
   "cell_type": "code",
   "execution_count": 1,
   "metadata": {},
   "outputs": [
    {
     "name": "stdout",
     "output_type": "stream",
     "text": [
      "Sorted by price:\n",
      "Watch: $200\n",
      "Tablet: $400\n",
      "Phone: $600\n",
      "Laptop: $800\n",
      "\n",
      "Expensive products:\n",
      "Laptop: $800\n",
      "Phone: $600\n"
     ]
    }
   ],
   "source": [
    "# Real-world: Sorting and filtering\n",
    "products = [\n",
    "    {\"name\": \"Laptop\", \"price\": 800},\n",
    "    {\"name\": \"Phone\", \"price\": 600},\n",
    "    {\"name\": \"Tablet\", \"price\": 400},\n",
    "    {\"name\": \"Watch\", \"price\": 200}\n",
    "]\n",
    "\n",
    "# Sort by price\n",
    "sorted_products = sorted(products, key=lambda x: x[\"price\"])\n",
    "print(\"Sorted by price:\")\n",
    "for product in sorted_products:\n",
    "    print(f\"{product['name']}: ${product['price']}\")\n",
    "\n",
    "# Filter expensive products\n",
    "expensive_products = list(filter(lambda x: x[\"price\"] > 500, products))\n",
    "print(\"\\nExpensive products:\")\n",
    "for product in expensive_products:\n",
    "    print(f\"{product['name']}: ${product['price']}\")"
   ]
  },
  {
   "cell_type": "markdown",
   "metadata": {},
   "source": [
    "<h2>Decorators</h2>"
   ]
  },
  {
   "cell_type": "markdown",
   "metadata": {},
   "source": [
    "\n",
    "Decorators let you add extra behavior to a function, without changing the function's code.\n",
    "\n",
    "A decorator is a function that takes another function as input and returns a new function."
   ]
  },
  {
   "cell_type": "markdown",
   "metadata": {},
   "source": [
    "Adding a custom timer and logger to another function called process_data. Decorators can be applied using @"
   ]
  },
  {
   "cell_type": "code",
   "execution_count": null,
   "metadata": {},
   "outputs": [
    {
     "name": "stdout",
     "output_type": "stream",
     "text": [
      "Calling process_data with args: ([1, 2, 3, 4],), kwargs: {'multiplier': 2}\n",
      "process_data executed in 0.1051 seconds\n",
      "Result: [2, 4, 6, 8]\n"
     ]
    }
   ],
   "source": [
    "# Real-world: Logging and timing functions\n",
    "import time\n",
    "from functools import wraps\n",
    "\n",
    "def timer(func):\n",
    "    \"\"\"Decorator to measure function execution time\"\"\"\n",
    "    @wraps(func)\n",
    "    def wrapper(*args, **kwargs):\n",
    "        start_time = time.time()\n",
    "        result = func(*args, **kwargs)\n",
    "        end_time = time.time()\n",
    "        print(f\"{func.__name__} executed in {end_time - start_time:.4f} seconds\")\n",
    "        return result\n",
    "    return wrapper\n",
    "\n",
    "def log_arguments(func):\n",
    "    \"\"\"Decorator to log function arguments\"\"\"\n",
    "    @wraps(func)\n",
    "    def wrapper(*args, **kwargs):\n",
    "        print(f\"Calling {func.__name__} with args: {args}, kwargs: {kwargs}\")\n",
    "        return func(*args, **kwargs)\n",
    "    return wrapper\n",
    "\n",
    "@timer\n",
    "@log_arguments\n",
    "def process_data(data, multiplier=1):\n",
    "    \"\"\"Simulate data processing\"\"\"\n",
    "    time.sleep(0.1)  # Simulate work\n",
    "    return [item * multiplier for item in data]\n",
    "\n",
    "# Using decorated function\n",
    "result = process_data([1, 2, 3, 4], multiplier=2)\n",
    "print(f\"Result: {result}\")"
   ]
  },
  {
   "cell_type": "markdown",
   "metadata": {},
   "source": [
    "<h2>Generators</h2>"
   ]
  },
  {
   "cell_type": "markdown",
   "metadata": {},
   "source": [
    "Imagine you're reading a really long book. You don't need to have the entire book memorized at once - you just read one page at a time. Generators work exactly like that!\n",
    "\n",
    "They're a special type of function that produces values one at a time instead of all at once.\n"
   ]
  },
  {
   "cell_type": "code",
   "execution_count": 7,
   "metadata": {},
   "outputs": [],
   "source": [
    "# DONOT EXECUTE THIS CODE\n",
    "def get_all_numbers():\n",
    "    numbers = []\n",
    "    for i in range(1000000):  # A MILLION numbers!\n",
    "        numbers.append(i)\n",
    "    return numbers  # Returns ALL numbers at once\n",
    "\n",
    "# This would use a LOT of memory!\n",
    "all_numbers = get_all_numbers()"
   ]
  },
  {
   "cell_type": "markdown",
   "metadata": {},
   "source": [
    "Instead of returning the complete list of a million numbers, we \"YIELD\" them one at a time. USe \"NEXT\" to move one step further. Generators are like pause buttons for functions. They give you one item, pause, then give the next item when you ask."
   ]
  },
  {
   "cell_type": "code",
   "execution_count": 10,
   "metadata": {},
   "outputs": [
    {
     "name": "stdout",
     "output_type": "stream",
     "text": [
      "0\n",
      "1\n"
     ]
    }
   ],
   "source": [
    "def generate_numbers():\n",
    "    for i in range(1000000):  # Still a million numbers\n",
    "        yield i  # Gives ONE number at a time\n",
    "\n",
    "# This uses almost no memory!\n",
    "number_generator = generate_numbers()\n",
    "print (next(number_generator))\n",
    "print (next(number_generator))"
   ]
  },
  {
   "cell_type": "markdown",
   "metadata": {},
   "source": [
    "Real-World Example: Netflix vs. DVD Box Set\n",
    "Regular lists are like getting a complete DVD box set - you get all episodes at once (uses lots of shelf space).\n",
    "\n",
    "Generators are like Netflix streaming - you get one episode at a time (uses very little space)."
   ]
  },
  {
   "cell_type": "code",
   "execution_count": null,
   "metadata": {},
   "outputs": [],
   "source": [
    "# Netflix-style generator\n",
    "def netflix_series():\n",
    "    episodes = [\"S1E1\", \"S1E2\", \"S1E3\", \"S1E4\", \"S1E5\"]\n",
    "    for episode in episodes:\n",
    "        print(f\"Loading {episode} from server...\")\n",
    "        yield episode  # Stream one episode\n",
    "\n",
    "# Watch one episode at a time\n",
    "watch = netflix_series()\n",
    "print(\"Now watching:\", next(watch))  # S1E1\n",
    "print(\"Now watching:\", next(watch))  # S1E2\n",
    "# You can pause and come back later!"
   ]
  },
  {
   "cell_type": "code",
   "execution_count": null,
   "metadata": {},
   "outputs": [],
   "source": [
    "# Think about your Instagram or Facebook feed - you don't load all posts ever made at once!\n",
    "\n",
    "def social_media_feed():\n",
    "    # Imagine this connects to a database with MILLIONS of posts\n",
    "    posts = [\"Post 1\", \"Post 2\", \"Post 3\", \"Post 4\", \"Post 5\"]\n",
    "    for post in posts:\n",
    "        # Simulate loading from server\n",
    "        print(\"Loading post from database...\")\n",
    "        yield post\n",
    "\n",
    "# Scroll through your feed\n",
    "feed = social_media_feed()\n",
    "print(\"Seeing:\", next(feed))  # Post 1\n",
    "print(\"Seeing:\", next(feed))  # Post 2\n",
    "# Keep scrolling when you're ready!"
   ]
  },
  {
   "cell_type": "code",
   "execution_count": null,
   "metadata": {},
   "outputs": [],
   "source": [
    "# Real-world: Large data processing - IoT Sensor data stream\n",
    "def read_large_file(filename):\n",
    "    \"\"\"Generator to read large files line by line\"\"\"\n",
    "    with open(filename, 'r') as file:\n",
    "        for line in file:\n",
    "            yield line.strip()\n",
    "\n",
    "# Simulate large file processing\n",
    "def generate_sensor_data():\n",
    "    \"\"\"Generator simulating sensor data\"\"\"\n",
    "    import random\n",
    "    while True:\n",
    "        yield {\n",
    "            \"temperature\": random.uniform(20, 30),\n",
    "            \"humidity\": random.uniform(40, 80),\n",
    "            \"timestamp\": \"2023-10-15\"\n",
    "        }\n",
    "\n",
    "# Using generator\n",
    "sensor = generate_sensor_data()\n",
    "print(\"Sample sensor readings:\")\n",
    "for _ in range(3):\n",
    "    print(next(sensor))"
   ]
  },
  {
   "cell_type": "markdown",
   "metadata": {},
   "source": [
    "Key Benefits:\n",
    "- Memory Efficient: Don't need to store everything at once\n",
    "- Lazy Evaluation: Only compute what you need, when you need it\n",
    "- Can Represent Infinite Streams: Like a never-ending sensor reading"
   ]
  },
  {
   "cell_type": "markdown",
   "metadata": {},
   "source": [
    "<h2>RegEx</h2>"
   ]
  },
  {
   "cell_type": "markdown",
   "metadata": {},
   "source": [
    "Regex (short for Regular Expressions) is like a secret code that helps computers find patterns in text. It's like playing \"I Spy\" with words!"
   ]
  },
  {
   "cell_type": "markdown",
   "metadata": {},
   "source": [
    "Imagine you're a detective looking for email addresses in a big document. Instead of reading every word, you use your regex magnifying glass to find this pattern:\n",
    "\n",
    "\"some text + @ + some text + . + something\"\n",
    "\n",
    "# Without Regex (Hard way! 😫)\n",
    "text = \"Contact me at alice@email.com or bob@website.net\"\n",
    "# You'd have to manually look for the @ symbol and then check what's around it"
   ]
  },
  {
   "cell_type": "code",
   "execution_count": 2,
   "metadata": {},
   "outputs": [
    {
     "name": "stdout",
     "output_type": "stream",
     "text": [
      "['alice@email.com', 'bob1@website.net']\n"
     ]
    }
   ],
   "source": [
    "# With Regex (Easy way! 😎)\n",
    "import re # This is called a package. It has abstractions (pre-built code) that helps us find patterns\n",
    "\n",
    "text = \"Contact me at alice@email.com or bob@website.net\"\n",
    "\n",
    "# /S finds any character that is NOT a space or whitespace.\n",
    "emails = re.findall(r'\\S+@\\S+\\.\\S+', text) \n",
    "#                        ^             ^\n",
    "#                        |             |\n",
    "#                      pattern        string we need to find pattern in\n",
    " \n",
    "print(emails)  # Finds: ['alice@email.com', 'bob@website.net']"
   ]
  },
  {
   "cell_type": "markdown",
   "metadata": {},
   "source": [
    "## Complete Regex Cheat Sheet\n",
    "\n",
    "Here's a comprehensive list of regex patterns with explanations and examples:\n",
    "\n",
    "## 🔍 Character Classes\n",
    "\n",
    "| Pattern | Meaning | Example |\n",
    "|---------|---------|---------|\n",
    "| `.` | Any single character (except newline) | `a.c` matches \"abc\", \"a c\", \"a-c\" |\n",
    "| `\\d` | Any digit (0-9) | `\\d\\d` matches \"42\" in \"Room 42\" |\n",
    "| `\\D` | Any NON-digit character | `\\D\\D` matches \"Hi\" in \"Hi123\" |\n",
    "| `\\w` | Any word character (a-z, A-Z, 0-9, _) | `\\w+` matches \"hello\" in \"hello world\" |\n",
    "| `\\W` | Any NON-word character | `\\W` matches \"!\" in \"hello!\" |\n",
    "| `\\s` | Any whitespace character (space, tab, newline) | `a\\sb` matches \"a b\" |\n",
    "| `\\S` | Any NON-whitespace character | `\\S+` matches \"hello\" in \"hello world\" |\n",
    "| `[abc]` | Any character in the brackets | `[aeiou]` matches \"e\" in \"hello\" |\n",
    "| `[^abc]` | Any character NOT in the brackets | `[^aeiou]` matches \"h\" in \"hello\" |\n",
    "| `[a-z]` | Any character in the range | `[a-z]` matches \"h\" in \"Hello\" |\n",
    "\n",
    "## 🔢 Quantifiers\n",
    "\n",
    "| Pattern | Meaning | Example |\n",
    "|---------|---------|---------|\n",
    "| `*` | Zero or more of the previous | `lo*l` matches \"ll\" and \"lol\" |\n",
    "| `+` | One or more of the previous | `lo+l` matches \"lol\" but not \"ll\" |\n",
    "| `?` | Zero or one of the previous | `colou?r` matches \"color\" and \"colour\" |\n",
    "| `{n}` | Exactly n occurrences | `\\d{3}` matches \"123\" |\n",
    "| `{n,}` | n or more occurrences | `\\d{3,}` matches \"123\" and \"12345\" |\n",
    "| `{n,m}` | Between n and m occurrences | `\\d{3,5}` matches \"123\" and \"12345\" |\n",
    "\n",
    "## 📍 Position Anchors\n",
    "\n",
    "| Pattern | Meaning | Example |\n",
    "|---------|---------|---------|\n",
    "| `^` | Start of string/line | `^Hello` matches \"Hello\" at start |\n",
    "| `$` | End of string/line | `world$` matches \"world\" at end |\n",
    "| `\\b` | Word boundary | `\\bcat\\b` matches \"cat\" but not \"category\" |\n",
    "| `\\B` | NOT a word boundary | `\\Bcat\\B` matches \"category\" but not \"cat\" |\n",
    "\n",
    "## 🎯 Grouping and Capturing\n",
    "\n",
    "| Pattern | Meaning | Example |\n",
    "|---------|---------|---------|\n",
    "| `(abc)` | Capture group | `(abc)+` matches \"abcabc\" |\n",
    "| `(?:abc)` | Non-capturing group | `(?:abc)+` matches but doesn't capture |\n",
    "| `a|b` | Match a OR b | `cat|dog` matches \"cat\" or \"dog\" |\n",
    "| `\\1`, `\\2` | Backreference to group | `(\\w)\\1` matches \"oo\" in \"book\" |\n",
    "\n",
    "## 🔄 Lookarounds (Advanced)\n",
    "\n",
    "| Pattern | Meaning | Example |\n",
    "|---------|---------|---------|\n",
    "| `(?=abc)` | Positive lookahead | `\\d(?=px)` matches \"2\" in \"2px\" |\n",
    "| `(?!abc)` | Negative lookahead | `\\d(?!px)` matches \"2\" in \"2em\" |\n",
    "| `(?<=abc)` | Positive lookbehind | `(?<=\\$)\\d+` matches \"100\" in \"$100\" |\n",
    "| `(?<!abc)` | Negative lookbehind | `(?<!\\$)\\d+` matches \"100\" in \"¥100\" |\n",
    "\n",
    "## 💡 Special Characters\n",
    "\n",
    "| Pattern | Meaning | Example |\n",
    "|---------|---------|---------|\n",
    "| `\\t` | Tab character | `a\\tb` matches \"a[tab]b\" |\n",
    "| `\\n` | Newline character | `a\\nb` matches \"a[newline]b\" |\n",
    "| `\\r` | Carriage return | `a\\r\\nb` matches Windows newline |\n",
    "| `\\\\` | Literal backslash | `\\\\` matches \"\\\" |\n",
    "| `\\.` | Literal dot | `\\.` matches \".\" |\n",
    "| `\\+` | Literal plus | `\\+` matches \"+\" |\n",
    "| `\\*` | Literal asterisk | `\\*` matches \"*\" |\n",
    "| `\\?` | Literal question mark | `\\?` matches \"?\" |\n",
    "\n",
    "## 🎨 Flags/Modifiers\n",
    "\n",
    "| Flag | Meaning | Example |\n",
    "|------|---------|---------|\n",
    "| `i` | Case-insensitive | `/hello/i` matches \"Hello\" and \"HELLO\" |\n",
    "| `g` | Global search (find all) | `/a/g` finds all \"a\" characters |\n",
    "| `m` | Multiline mode | `/^a/m` matches \"a\" at start of each line |\n",
    "| `s` | Dot matches newline | `/a.b/s` matches \"a\\nb\" |\n"
   ]
  },
  {
   "cell_type": "code",
   "execution_count": 13,
   "metadata": {},
   "outputs": [
    {
     "name": "stdout",
     "output_type": "stream",
     "text": [
      "['123-456-7890', '987.654.3210']\n",
      "Only +91 numbers: ['+91-9876543210']\n"
     ]
    }
   ],
   "source": [
    "text = \"Call me at 123-456-7890 or 987.654.3210\"\n",
    "phones = re.findall(r'\\d{3}[-.]\\d{3}[-.]\\d{4}', text)\n",
    "print(phones)  # Finds: ['123-456-7890', '987.654.3210']\n",
    "\n",
    "text = \"Call me at +91-9876543210 or +1-123-456-7890 or +91-98765-43210\"\n",
    "\n",
    "# Only numbers starting with +91\n",
    "only_india = re.findall(r'\\+91[-\\s]?\\d{10}', text)\n",
    "print(\"Only +91 numbers:\", only_india)  # Finds: ['+91-9876543210', '+91-98765-43210']\n",
    "\n"
   ]
  },
  {
   "cell_type": "markdown",
   "metadata": {},
   "source": [
    "Finding hashtags"
   ]
  },
  {
   "cell_type": "code",
   "execution_count": 12,
   "metadata": {},
   "outputs": [
    {
     "name": "stdout",
     "output_type": "stream",
     "text": [
      "['#Python', '#Coding', '#100DaysOfCode']\n"
     ]
    }
   ],
   "source": [
    "text = \"I love #Python and #Coding is fun! #100DaysOfCode\"\n",
    "hashtags = re.findall(r'#\\w+', text)\n",
    "print(hashtags)  # Finds: ['#Python', '#Coding', '#100DaysOfCode']"
   ]
  },
  {
   "cell_type": "markdown",
   "metadata": {},
   "source": [
    "Password Checker"
   ]
  },
  {
   "cell_type": "code",
   "execution_count": 11,
   "metadata": {},
   "outputs": [
    {
     "name": "stdout",
     "output_type": "stream",
     "text": [
      "✅ Strong password!\n",
      "❌ Weak password!\n"
     ]
    }
   ],
   "source": [
    "def check_password(password):\n",
    "    # At least 8 chars, contains uppercase, lowercase, and number\n",
    "    if re.match(r'^(?=.*[a-z])(?=.*[A-Z])(?=.*\\d).{8,}$', password):\n",
    "        return \"✅ Strong password!\"\n",
    "    else:\n",
    "        return \"❌ Weak password!\"\n",
    "\n",
    "print(check_password(\"PPPython3\"))   # ✅\n",
    "print(check_password(\"weak\"))      # ❌"
   ]
  },
  {
   "cell_type": "markdown",
   "metadata": {},
   "source": [
    "Cumulative example"
   ]
  },
  {
   "cell_type": "code",
   "execution_count": null,
   "metadata": {},
   "outputs": [],
   "source": [
    "import re\n",
    "\n",
    "# Game: Find the hidden treasures in the text!\n",
    "text = \"\"\"\n",
    "I have 3 cats, 2 dogs, and 1 turtle. My phone number is (555) 123-4567.\n",
    "Visit my website at www.mysite.com or email me at friend@example.org!\n",
    "I have $25.50 in my pocket. My favorite colors are #FF0000 and #00FF00.\n",
    "\"\"\"\n",
    "\n",
    "# Your mission: Find these treasures!\n",
    "numbers = re.findall(r'\\d+', text)          # All numbers\n",
    "phones = re.findall(r'\\(\\d{3}\\) \\d{3}-\\d{4}', text)  # Phone numbers\n",
    "emails = re.findall(r'\\S+@\\S+\\.\\S+', text)  # Email addresses\n",
    "colors = re.findall(r'#\\w{6}', text)        # Color hex codes\n",
    "money = re.findall(r'\\$\\d+\\.\\d{2}', text)   # Money amounts\n",
    "\n",
    "print(\"Numbers found:\", numbers)\n",
    "print(\"Phone numbers:\", phones)\n",
    "print(\"Emails:\", emails)\n",
    "print(\"Colors:\", colors)\n",
    "print(\"Money:\", money)"
   ]
  },
  {
   "cell_type": "code",
   "execution_count": 14,
   "metadata": {},
   "outputs": [
    {
     "name": "stdout",
     "output_type": "stream",
     "text": [
      "Collecting sentence-transformers\n",
      "  Downloading sentence_transformers-5.1.0-py3-none-any.whl.metadata (16 kB)\n",
      "Requirement already satisfied: scikit-learn in /Library/Frameworks/Python.framework/Versions/3.11/lib/python3.11/site-packages (1.3.0)\n",
      "Requirement already satisfied: matplotlib in /Library/Frameworks/Python.framework/Versions/3.11/lib/python3.11/site-packages (3.7.2)\n",
      "Collecting seaborn\n",
      "  Downloading seaborn-0.13.2-py3-none-any.whl.metadata (5.4 kB)\n",
      "Requirement already satisfied: numpy in /Library/Frameworks/Python.framework/Versions/3.11/lib/python3.11/site-packages (1.24.2)\n",
      "Requirement already satisfied: transformers<5.0.0,>=4.41.0 in /Library/Frameworks/Python.framework/Versions/3.11/lib/python3.11/site-packages (from sentence-transformers) (4.56.0)\n",
      "Requirement already satisfied: tqdm in /Library/Frameworks/Python.framework/Versions/3.11/lib/python3.11/site-packages (from sentence-transformers) (4.67.1)\n",
      "Collecting torch>=1.11.0 (from sentence-transformers)\n",
      "  Downloading torch-2.8.0-cp311-none-macosx_11_0_arm64.whl.metadata (30 kB)\n",
      "Requirement already satisfied: scipy in /Library/Frameworks/Python.framework/Versions/3.11/lib/python3.11/site-packages (from sentence-transformers) (1.11.2)\n",
      "Requirement already satisfied: huggingface-hub>=0.20.0 in /Library/Frameworks/Python.framework/Versions/3.11/lib/python3.11/site-packages (from sentence-transformers) (0.34.4)\n",
      "Requirement already satisfied: Pillow in /Library/Frameworks/Python.framework/Versions/3.11/lib/python3.11/site-packages (from sentence-transformers) (11.2.1)\n",
      "Requirement already satisfied: typing_extensions>=4.5.0 in /Library/Frameworks/Python.framework/Versions/3.11/lib/python3.11/site-packages (from sentence-transformers) (4.13.2)\n",
      "Requirement already satisfied: filelock in /Library/Frameworks/Python.framework/Versions/3.11/lib/python3.11/site-packages (from transformers<5.0.0,>=4.41.0->sentence-transformers) (3.19.1)\n",
      "Requirement already satisfied: packaging>=20.0 in /Users/sivakamylakshminarayanan/Library/Python/3.11/lib/python/site-packages (from transformers<5.0.0,>=4.41.0->sentence-transformers) (25.0)\n",
      "Requirement already satisfied: pyyaml>=5.1 in /Library/Frameworks/Python.framework/Versions/3.11/lib/python3.11/site-packages (from transformers<5.0.0,>=4.41.0->sentence-transformers) (6.0.2)\n",
      "Requirement already satisfied: regex!=2019.12.17 in /Library/Frameworks/Python.framework/Versions/3.11/lib/python3.11/site-packages (from transformers<5.0.0,>=4.41.0->sentence-transformers) (2024.11.6)\n",
      "Requirement already satisfied: requests in /Library/Frameworks/Python.framework/Versions/3.11/lib/python3.11/site-packages (from transformers<5.0.0,>=4.41.0->sentence-transformers) (2.32.5)\n",
      "Requirement already satisfied: tokenizers<=0.23.0,>=0.22.0 in /Library/Frameworks/Python.framework/Versions/3.11/lib/python3.11/site-packages (from transformers<5.0.0,>=4.41.0->sentence-transformers) (0.22.0)\n",
      "Requirement already satisfied: safetensors>=0.4.3 in /Library/Frameworks/Python.framework/Versions/3.11/lib/python3.11/site-packages (from transformers<5.0.0,>=4.41.0->sentence-transformers) (0.6.2)\n",
      "Requirement already satisfied: fsspec>=2023.5.0 in /Library/Frameworks/Python.framework/Versions/3.11/lib/python3.11/site-packages (from huggingface-hub>=0.20.0->sentence-transformers) (2025.7.0)\n",
      "Requirement already satisfied: hf-xet<2.0.0,>=1.1.3 in /Library/Frameworks/Python.framework/Versions/3.11/lib/python3.11/site-packages (from huggingface-hub>=0.20.0->sentence-transformers) (1.1.9)\n",
      "Requirement already satisfied: joblib>=1.1.1 in /Library/Frameworks/Python.framework/Versions/3.11/lib/python3.11/site-packages (from scikit-learn) (1.3.2)\n",
      "Requirement already satisfied: threadpoolctl>=2.0.0 in /Library/Frameworks/Python.framework/Versions/3.11/lib/python3.11/site-packages (from scikit-learn) (3.2.0)\n",
      "Requirement already satisfied: contourpy>=1.0.1 in /Library/Frameworks/Python.framework/Versions/3.11/lib/python3.11/site-packages (from matplotlib) (1.1.0)\n",
      "Requirement already satisfied: cycler>=0.10 in /Library/Frameworks/Python.framework/Versions/3.11/lib/python3.11/site-packages (from matplotlib) (0.11.0)\n",
      "Requirement already satisfied: fonttools>=4.22.0 in /Library/Frameworks/Python.framework/Versions/3.11/lib/python3.11/site-packages (from matplotlib) (4.42.1)\n",
      "Requirement already satisfied: kiwisolver>=1.0.1 in /Library/Frameworks/Python.framework/Versions/3.11/lib/python3.11/site-packages (from matplotlib) (1.4.5)\n",
      "Collecting pyparsing<3.1,>=2.3.1 (from matplotlib)\n",
      "  Downloading pyparsing-3.0.9-py3-none-any.whl.metadata (4.2 kB)\n",
      "Requirement already satisfied: python-dateutil>=2.7 in /Users/sivakamylakshminarayanan/Library/Python/3.11/lib/python/site-packages (from matplotlib) (2.9.0.post0)\n",
      "Requirement already satisfied: pandas>=1.2 in /Library/Frameworks/Python.framework/Versions/3.11/lib/python3.11/site-packages (from seaborn) (2.0.0)\n",
      "Requirement already satisfied: pytz>=2020.1 in /Library/Frameworks/Python.framework/Versions/3.11/lib/python3.11/site-packages (from pandas>=1.2->seaborn) (2025.2)\n",
      "Requirement already satisfied: tzdata>=2022.1 in /Library/Frameworks/Python.framework/Versions/3.11/lib/python3.11/site-packages (from pandas>=1.2->seaborn) (2025.2)\n",
      "Requirement already satisfied: six>=1.5 in /Users/sivakamylakshminarayanan/Library/Python/3.11/lib/python/site-packages (from python-dateutil>=2.7->matplotlib) (1.17.0)\n",
      "Collecting sympy>=1.13.3 (from torch>=1.11.0->sentence-transformers)\n",
      "  Downloading sympy-1.14.0-py3-none-any.whl.metadata (12 kB)\n",
      "Collecting networkx (from torch>=1.11.0->sentence-transformers)\n",
      "  Downloading networkx-3.5-py3-none-any.whl.metadata (6.3 kB)\n",
      "Requirement already satisfied: jinja2 in /Library/Frameworks/Python.framework/Versions/3.11/lib/python3.11/site-packages (from torch>=1.11.0->sentence-transformers) (3.1.6)\n",
      "Collecting mpmath<1.4,>=1.1.0 (from sympy>=1.13.3->torch>=1.11.0->sentence-transformers)\n",
      "  Downloading mpmath-1.3.0-py3-none-any.whl.metadata (8.6 kB)\n",
      "Requirement already satisfied: MarkupSafe>=2.0 in /Users/sivakamylakshminarayanan/Library/Python/3.11/lib/python/site-packages (from jinja2->torch>=1.11.0->sentence-transformers) (2.1.3)\n",
      "Requirement already satisfied: charset_normalizer<4,>=2 in /Library/Frameworks/Python.framework/Versions/3.11/lib/python3.11/site-packages (from requests->transformers<5.0.0,>=4.41.0->sentence-transformers) (3.4.1)\n",
      "Requirement already satisfied: idna<4,>=2.5 in /Library/Frameworks/Python.framework/Versions/3.11/lib/python3.11/site-packages (from requests->transformers<5.0.0,>=4.41.0->sentence-transformers) (3.10)\n",
      "Requirement already satisfied: urllib3<3,>=1.21.1 in /Library/Frameworks/Python.framework/Versions/3.11/lib/python3.11/site-packages (from requests->transformers<5.0.0,>=4.41.0->sentence-transformers) (2.5.0)\n",
      "Requirement already satisfied: certifi>=2017.4.17 in /Library/Frameworks/Python.framework/Versions/3.11/lib/python3.11/site-packages (from requests->transformers<5.0.0,>=4.41.0->sentence-transformers) (2025.1.31)\n",
      "Downloading sentence_transformers-5.1.0-py3-none-any.whl (483 kB)\n",
      "Downloading pyparsing-3.0.9-py3-none-any.whl (98 kB)\n",
      "Downloading seaborn-0.13.2-py3-none-any.whl (294 kB)\n",
      "Downloading torch-2.8.0-cp311-none-macosx_11_0_arm64.whl (73.6 MB)\n",
      "\u001b[2K   \u001b[90m━━━━━━━━━━━━━━━━━━━━━━━━━━━━━━━━━━━━━━━━\u001b[0m \u001b[32m73.6/73.6 MB\u001b[0m \u001b[31m41.6 MB/s\u001b[0m eta \u001b[36m0:00:00\u001b[0m00:01\u001b[0m00:01\u001b[0m\n",
      "\u001b[?25hDownloading sympy-1.14.0-py3-none-any.whl (6.3 MB)\n",
      "\u001b[2K   \u001b[90m━━━━━━━━━━━━━━━━━━━━━━━━━━━━━━━━━━━━━━━━\u001b[0m \u001b[32m6.3/6.3 MB\u001b[0m \u001b[31m46.7 MB/s\u001b[0m eta \u001b[36m0:00:00\u001b[0m\n",
      "\u001b[?25hDownloading mpmath-1.3.0-py3-none-any.whl (536 kB)\n",
      "\u001b[2K   \u001b[90m━━━━━━━━━━━━━━━━━━━━━━━━━━━━━━━━━━━━━━━━\u001b[0m \u001b[32m536.2/536.2 kB\u001b[0m \u001b[31m13.6 MB/s\u001b[0m eta \u001b[36m0:00:00\u001b[0m\n",
      "\u001b[?25hDownloading networkx-3.5-py3-none-any.whl (2.0 MB)\n",
      "\u001b[2K   \u001b[90m━━━━━━━━━━━━━━━━━━━━━━━━━━━━━━━━━━━━━━━━\u001b[0m \u001b[32m2.0/2.0 MB\u001b[0m \u001b[31m22.2 MB/s\u001b[0m eta \u001b[36m0:00:00\u001b[0m\n",
      "\u001b[?25hInstalling collected packages: mpmath, sympy, pyparsing, networkx, torch, seaborn, sentence-transformers\n",
      "\u001b[2K  Attempting uninstall: pyparsing━━━━━━━━━━━━━━━━━━━━━━━━━━━━━━━━━\u001b[0m \u001b[32m1/7\u001b[0m [sympy]\n",
      "\u001b[2K    Found existing installation: pyparsing 3.2.3━━━━━━━━━━━━━━\u001b[0m \u001b[32m1/7\u001b[0m [sympy]\n",
      "\u001b[2K    Uninstalling pyparsing-3.2.3:━━━━━━━━━━━━━━━━━━━━━━━━━━━━━\u001b[0m \u001b[32m1/7\u001b[0m [sympy]\n",
      "\u001b[2K      Successfully uninstalled pyparsing-3.2.3━━━━━━━━━━━━━━━━\u001b[0m \u001b[32m1/7\u001b[0m [sympy]\n",
      "\u001b[2K   \u001b[90m━━━━━━━━━━━━━━━━━━━━━━━━━━━━━━━━━━━━━━━━\u001b[0m \u001b[32m7/7\u001b[0m [sentence-transformers]ence-transformers]\n",
      "\u001b[1A\u001b[2KSuccessfully installed mpmath-1.3.0 networkx-3.5 pyparsing-3.0.9 seaborn-0.13.2 sentence-transformers-5.1.0 sympy-1.14.0 torch-2.8.0\n",
      "\n",
      "\u001b[1m[\u001b[0m\u001b[34;49mnotice\u001b[0m\u001b[1;39;49m]\u001b[0m\u001b[39;49m A new release of pip is available: \u001b[0m\u001b[31;49m25.1.1\u001b[0m\u001b[39;49m -> \u001b[0m\u001b[32;49m25.2\u001b[0m\n",
      "\u001b[1m[\u001b[0m\u001b[34;49mnotice\u001b[0m\u001b[1;39;49m]\u001b[0m\u001b[39;49m To update, run: \u001b[0m\u001b[32;49mpip install --upgrade pip\u001b[0m\n",
      "Note: you may need to restart the kernel to use updated packages.\n"
     ]
    }
   ],
   "source": [
    "pip install sentence-transformers scikit-learn matplotlib seaborn numpy"
   ]
  },
  {
   "cell_type": "code",
   "execution_count": 25,
   "metadata": {},
   "outputs": [
    {
     "name": "stdout",
     "output_type": "stream",
     "text": [
      "Original Texts:\n",
      "Text 1: Cirle\n",
      "Text 2: Moon\n",
      "\n",
      "============================================================\n",
      "EMBEDDING VECTOR DETAILS\n",
      "============================================================\n",
      "\n",
      "Text 1: 'Cirle'\n",
      "Vector shape: (384,)\n",
      "Vector dtype: float32\n",
      "First 10 values: [-0.10893498  0.03595039 -0.06637424 -0.01509547 -0.09647939  0.01099858\n",
      "  0.08054182  0.12463383  0.08885039  0.03328664]\n",
      "Mean: 0.000681\n",
      "Std: 0.051026\n",
      "Min: -0.175070\n",
      "Max: 0.167510\n",
      "\n",
      "Text 2: 'Moon'\n",
      "Vector shape: (384,)\n",
      "Vector dtype: float32\n",
      "First 10 values: [ 9.2148031e-05  3.4934804e-02  4.1344851e-02  6.0127750e-02\n",
      " -9.0935603e-02 -4.2241585e-02  6.7362666e-02 -4.3818843e-02\n",
      "  2.1339612e-02 -1.8132750e-02]\n",
      "Mean: 0.000873\n",
      "Std: 0.051024\n",
      "Min: -0.138981\n",
      "Max: 0.194545\n",
      "\n",
      "Text 3: 'Harry Potter'\n",
      "Vector shape: (384,)\n",
      "Vector dtype: float32\n",
      "First 10 values: [-0.06422769 -0.00430152 -0.04282691  0.03793846 -0.10789489 -0.01337648\n",
      "  0.0463733  -0.02006128  0.08278275 -0.0571144 ]\n",
      "Mean: 0.001121\n",
      "Std: 0.051019\n",
      "Min: -0.139833\n",
      "Max: 0.179643\n",
      "\n",
      "Text 4: 'Wand'\n",
      "Vector shape: (384,)\n",
      "Vector dtype: float32\n",
      "First 10 values: [-0.04456525  0.00198564 -0.00982396 -0.0109915  -0.10379271 -0.00577052\n",
      "  0.11572939 -0.01825331  0.02145468 -0.01797702]\n",
      "Mean: 0.001677\n",
      "Std: 0.051003\n",
      "Min: -0.129343\n",
      "Max: 0.199083\n",
      "\n",
      "Text 5: 'Sun'\n",
      "Vector shape: (384,)\n",
      "Vector dtype: float32\n",
      "First 10 values: [-0.03410041  0.11035433  0.03139838  0.09604093  0.02872282 -0.01937824\n",
      "  0.17020401 -0.06306139  0.06783938 -0.01179656]\n",
      "Mean: 0.001427\n",
      "Std: 0.051011\n",
      "Min: -0.143143\n",
      "Max: 0.183619\n",
      "\n",
      "Text 6: 'Square'\n",
      "Vector shape: (384,)\n",
      "Vector dtype: float32\n",
      "First 10 values: [ 0.09228088  0.07878133 -0.02029409  0.05313491 -0.10533219  0.02611403\n",
      "  0.02906478  0.0120261   0.04497012 -0.06974746]\n",
      "Mean: 0.001443\n",
      "Std: 0.051011\n",
      "Min: -0.147454\n",
      "Max: 0.217624\n"
     ]
    },
    {
     "data": {
      "image/png": "[encoded data removed]",
      "text/plain": [
       "<Figure size 1200x800 with 1 Axes>"
      ]
     },
     "metadata": {},
     "output_type": "display_data"
    },
    {
     "name": "stdout",
     "output_type": "stream",
     "text": [
      "\n",
      "VECTOR INFORMATION:\n",
      "Cirle magnitude: 0.5412\n",
      "Moon magnitude: 0.4401\n",
      "Harry Potter magnitude: 0.4013\n",
      "Wand magnitude: 0.4612\n",
      "Sun magnitude: 0.6398\n",
      "Square magnitude: 0.7541\n",
      "\n",
      "Cosine Similarity between texts: 0.2100\n"
     ]
    }
   ],
   "source": [
    "import numpy as np\n",
    "import matplotlib.pyplot as plt\n",
    "from sklearn.decomposition import PCA\n",
    "from sentence_transformers import SentenceTransformer\n",
    "import seaborn as sns\n",
    "\n",
    "def get_embeddings_sentence_transformers(texts):\n",
    "    \"\"\"Get embeddings using Sentence Transformers\"\"\"\n",
    "    model = SentenceTransformer('all-MiniLM-L6-v2')  # Lightweight model\n",
    "    embeddings = model.encode(texts)\n",
    "    return embeddings\n",
    "\n",
    "def visualize_embeddings(embeddings, texts):\n",
    "    \"\"\"Visualize embeddings using PCA for dimensionality reduction\"\"\"\n",
    "    # Reduce dimensions to 2D for visualization\n",
    "    pca = PCA(n_components=2)\n",
    "    embeddings_2d = pca.fit_transform(embeddings)\n",
    "    \n",
    "    # Create the plot\n",
    "    plt.figure(figsize=(12, 8))\n",
    "    \n",
    "    # Plot origin point\n",
    "    plt.scatter(0, 0, color='black', s=100, marker='o', label='Origin', alpha=0.7)\n",
    "    \n",
    "    # Plot the vectors from origin to each point\n",
    "    colors = ['red', 'blue','yellow','green','pink','purple']\n",
    "    for i, (x, y) in enumerate(embeddings_2d):\n",
    "        # Draw vector arrow from origin to point\n",
    "        plt.arrow(0, 0, x, y, \n",
    "                 head_width=0.1, head_length=0.1, \n",
    "                 fc=colors[i], ec=colors[i], \n",
    "                 length_includes_head=True, \n",
    "                 alpha=0.8, \n",
    "                 label=f'Text {i+1} Vector')\n",
    "        \n",
    "        # Plot the endpoint\n",
    "        plt.scatter(x, y, color=colors[i], s=150, alpha=0.8)\n",
    "        \n",
    "        # Add text label near the endpoint\n",
    "        plt.annotate(f'{texts[i]}', (x, y), xytext=(5, 5), \n",
    "                    textcoords='offset points', fontsize=12, fontweight='bold')\n",
    "    \n",
    "    # Calculate and display cosine similarity\n",
    "    similarity = np.dot(embeddings[0], embeddings[1]) / (\n",
    "        np.linalg.norm(embeddings[0]) * np.linalg.norm(embeddings[1])\n",
    "    )\n",
    "    \n",
    "    # Calculate vector magnitudes\n",
    "    magnitudes = [np.linalg.norm(vec) for vec in embeddings_2d]\n",
    "    \n",
    "    plt.title(f'Text Embeddings Visualization\\nCosine Similarity: {similarity:.4f}', \n",
    "              fontsize=14, fontweight='bold')\n",
    "    plt.xlabel('PCA Component 1')\n",
    "    plt.ylabel('PCA Component 2')\n",
    "    plt.grid(True, alpha=0.3)\n",
    "    plt.axhline(y=0, color='k', linestyle='-', alpha=0.2)\n",
    "    plt.axvline(x=0, color='k', linestyle='-', alpha=0.2)\n",
    "    plt.legend()\n",
    "    \n",
    "    # Set equal aspect ratio for proper vector representation\n",
    "    plt.axis('equal')\n",
    "    plt.tight_layout()\n",
    "    \n",
    "    # Show the plot\n",
    "    plt.show()\n",
    "    \n",
    "    # Print vector information\n",
    "    print(\"\\nVECTOR INFORMATION:\")\n",
    "    for i, mag in enumerate(magnitudes):\n",
    "        print(f\"{texts[i]} magnitude: {mag:.4f}\")\n",
    "    \n",
    "    return embeddings_2d, similarity\n",
    "\n",
    "def display_vector_details(embeddings, texts):\n",
    "    \"\"\"Display detailed information about the vectors\"\"\"\n",
    "    print(\"=\" * 60)\n",
    "    print(\"EMBEDDING VECTOR DETAILS\")\n",
    "    print(\"=\" * 60)\n",
    "    \n",
    "    for i, (text, embedding) in enumerate(zip(texts, embeddings)):\n",
    "        print(f\"\\nText {i+1}: '{text}'\")\n",
    "        print(f\"Vector shape: {embedding.shape}\")\n",
    "        print(f\"Vector dtype: {embedding.dtype}\")\n",
    "        print(f\"First 10 values: {embedding[:10]}\")\n",
    "        print(f\"Mean: {np.mean(embedding):.6f}\")\n",
    "        print(f\"Std: {np.std(embedding):.6f}\")\n",
    "        print(f\"Min: {np.min(embedding):.6f}\")\n",
    "        print(f\"Max: {np.max(embedding):.6f}\")\n",
    "\n",
    "# Main execution\n",
    "if __name__ == \"__main__\":\n",
    "    # Example texts\n",
    "    text1 = \"Pentagon\"\n",
    "    text2 = \"Moon\"\n",
    "    text3 = \"Harry Potter\"\n",
    "    text4 = \"Wand\"\n",
    "    text5 = \"Sun\"\n",
    "    text6 = \"Square\"\n",
    "    print(\"Original Texts:\")\n",
    "    print(f\"Text 1: {text1}\")\n",
    "    print(f\"Text 2: {text2}\")\n",
    "    print()\n",
    "    \n",
    "    # Get embeddings\n",
    "    texts = [text1, text2,text3,text4,text5,text6]\n",
    "    embeddings = get_embeddings_sentence_transformers(texts)\n",
    "    \n",
    "    # Display vector details\n",
    "    display_vector_details(embeddings, texts)\n",
    "    \n",
    "    # Visualize embeddings\n",
    "    embeddings_2d, similarity = visualize_embeddings(embeddings, texts)\n",
    "    \n",
    "    print(f\"\\nCosine Similarity between texts: {similarity:.4f}\")"
   ]
  }
 ],
 "metadata": {
  "kernelspec": {
   "display_name": "Python 3",
   "language": "python",
   "name": "python3"
  },
  "language_info": {
   "codemirror_mode": {
    "name": "ipython",
    "version": 3
   },
   "file_extension": ".py",
   "mimetype": "text/x-python",
   "name": "python",
   "nbconvert_exporter": "python",
   "pygments_lexer": "ipython3",
   "version": "3.11.2"
  }
 },
 "nbformat": 4,
 "nbformat_minor": 2
}
