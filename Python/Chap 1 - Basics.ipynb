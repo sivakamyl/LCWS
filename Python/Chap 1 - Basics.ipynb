{
 "cells": [
  {
   "cell_type": "markdown",
   "metadata": {},
   "source": [
    "<h2>What is Python?</h2><br/>\n",
    "\n",
    "Python is one of the most popular programming languages in the world, and for good reason. Let's explore why Python is such an important language to learn.                      \n",
    "- Easy-to-read syntax (like English)\n",
    "- Allow programmers to express concepts in fewer lines of code\n",
    "- Make programming accessible to beginners\n",
    "- Be powerful enough for advanced applications\n",
    "\n",
    "Python is a high-level, interpreted programming language known for its:\n",
    "- **Readability**: Clean syntax that's easy to understand\n",
    "- **Versatility**: Used in many different domains\n",
    "- **Large community**: Tons of resources and libraries available\n",
    "- **Cross-platform**: Runs on Windows, Mac, Linux, etc.\n",
    "Python is a versatile programming language used for web development, data analysis, AI, automation, and more."
   ]
  },
  {
   "cell_type": "markdown",
   "metadata": {},
   "source": [
    "Think of Python like learning to cook. You start with basic recipes (simple programs) and gradually learn complex dishes (advanced applications)."
   ]
  },
  {
   "cell_type": "markdown",
   "metadata": {
    "vscode": {
     "languageId": "plaintext"
    }
   },
   "source": [
    "<h3>Installation</h3>"
   ]
  },
  {
   "cell_type": "markdown",
   "metadata": {},
   "source": [
    "Windows - https://youtu.be/cvl3allRO2Q?si=4YI6PxUJaQdc1UEn\n",
    "Mac - https://youtu.be/E3szW5rx3QU?si=IyIs_B4rXPkFo62i"
   ]
  },
  {
   "cell_type": "markdown",
   "metadata": {},
   "source": [
    "<h3>Basics</h3>"
   ]
  },
  {
   "cell_type": "code",
   "execution_count": 48,
   "metadata": {},
   "outputs": [
    {
     "name": "stdout",
     "output_type": "stream",
     "text": [
      "Hello, World! Welcome to Python!\n",
      "Hi again!\n"
     ]
    }
   ],
   "source": [
    "# Your first Python program - a simple greeting\n",
    "print(\"Hello, World! Welcome to Python!\")\n",
    "\n",
    "# print by default adds a new line at the end. So if you print anything now, you will see in the next line.\n",
    "print (\"Hi again!\")"
   ]
  },
  {
   "cell_type": "code",
   "execution_count": 49,
   "metadata": {},
   "outputs": [
    {
     "name": "stdout",
     "output_type": "stream",
     "text": [
      "Hello World\n",
      "Without end\n"
     ]
    }
   ],
   "source": [
    "# To prevent new line addition at the end of print, use end=''\n",
    "print(\"Hello\", end=' ') # no new line\n",
    "print(\"World\") # new line added\n",
    "print (\"Without end\")"
   ]
  },
  {
   "cell_type": "code",
   "execution_count": 50,
   "metadata": {},
   "outputs": [
    {
     "name": "stdout",
     "output_type": "stream",
     "text": [
      "Hello \n",
      " World\n"
     ]
    }
   ],
   "source": [
    "# Use multiline printing within single print using \\n\n",
    "print (\"Hello \\n World\") \n",
    "\n",
    "# \\n adds new line. Note the space before World in the above statement."
   ]
  },
  {
   "cell_type": "markdown",
   "metadata": {},
   "source": [
    "<h3>Data Types and Variables</h3>"
   ]
  },
  {
   "cell_type": "markdown",
   "metadata": {},
   "source": [
    "Variables are like labeled boxes where you store information. Data types define what kind of data is in your variable."
   ]
  },
  {
   "cell_type": "code",
   "execution_count": 51,
   "metadata": {},
   "outputs": [
    {
     "name": "stdout",
     "output_type": "stream",
     "text": [
      "I have 5 apples\n",
      "Today's temperature: 23.5°C\n",
      "Hello, Alice!\n",
      "Is it raining? True\n",
      "Shopping cart: None\n"
     ]
    }
   ],
   "source": [
    "# Basic data types with real-world examples\n",
    "\n",
    "# Integer - like counting apples\n",
    "apples = 5\n",
    "print(f\"I have {apples} apples\")\n",
    "\n",
    "#-------------------------------------------------------#\n",
    "\n",
    "# Float - like measuring temperature\n",
    "temperature = 23.5\n",
    "print(f\"Today's temperature: {temperature}°C\")\n",
    "\n",
    "#-------------------------------------------------------#\n",
    "\n",
    "# String - like writing a message\n",
    "name = \"Alice\"\n",
    "greeting = f\"Hello, {name}!\"\n",
    "print(greeting)\n",
    "\n",
    "#-------------------------------------------------------#\n",
    "\n",
    "# Boolean - like a light switch (on/off)\n",
    "is_raining = True # OR False\n",
    "print(f\"Is it raining? {is_raining}\")\n",
    "\n",
    "#-------------------------------------------------------#\n",
    "\n",
    "# None - like an empty container\n",
    "shopping_cart = None\n",
    "print(f\"Shopping cart: {shopping_cart}\")"
   ]
  },
  {
   "cell_type": "markdown",
   "metadata": {},
   "source": [
    "Checkout Keywords: https://youtu.be/K7miCtkyNT4?si=KVedOhTqFtRnoTr5"
   ]
  },
  {
   "cell_type": "markdown",
   "metadata": {},
   "source": [
    "<h3>Operations on int</h3>\n",
    "Integers are fundamental to programming and are used in countless applications from simple counting to complex mathematical computations.<br/>\n",
    "Common Integer Operations Summary <br/>\n",
    " \n",
    "| Operation             | Symbol | Example  | Result |\n",
    "|-----------------------|--------|----------|--------|\n",
    "| Addition              | +      | 5 + 3    | 8     |\n",
    "| Subtraction           | -      | 5 - 3    | 2     |\n",
    "| Multiplication        | *      | 5 * 3    | 15    |\n",
    "| Division              | /      | 5 / 2    | 2.5   |\n",
    "| Integer Division      | //     | 5 // 2   | 2     |\n",
    "| Modulus (Remainder)   | %      | 5 % 2    | 1     |\n",
    "| Exponentiation        | **     | 5 ** 3   | 125   |\n",
    "| Absolute Value        | abs()  | abs(-5)  | 5     |\n",
    "\n",
    "\n"
   ]
  },
  {
   "cell_type": "code",
   "execution_count": 52,
   "metadata": {},
   "outputs": [
    {
     "name": "stdout",
     "output_type": "stream",
     "text": [
      "I have 5 apples and 3 oranges\n"
     ]
    }
   ],
   "source": [
    "# %%\n",
    "# Basic integer assignment\n",
    "apples = 5\n",
    "oranges = 3\n",
    "print(f\"I have {apples} apples and {oranges} oranges\")"
   ]
  },
  {
   "cell_type": "markdown",
   "metadata": {},
   "source": [
    "<h4>Basic Arithmetic Operations</h4>"
   ]
  },
  {
   "cell_type": "code",
   "execution_count": 53,
   "metadata": {},
   "outputs": [
    {
     "name": "stdout",
     "output_type": "stream",
     "text": [
      "Total fruits: 5 + 3 = 8\n",
      "If I had 8 apples, that would be 3 more than my current 5\n",
      "4 baskets × 6 apples each = 24 total apples\n",
      "12 apples shared among 3 people = 4.0 apples each\n",
      "10 / 2 = 5.0 (type: <class 'float'>)\n",
      "With integer division: 17 // 5 = 3 apples each\n",
      "Leftover apples: 17 % 5 = 2\n"
     ]
    }
   ],
   "source": [
    "# Addition (+)\n",
    "total_fruits = apples + oranges\n",
    "print(f\"Total fruits: {apples} + {oranges} = {total_fruits}\")\n",
    "\n",
    "# Subtraction (-)\n",
    "more_apples = 8\n",
    "difference = more_apples - apples\n",
    "print(f\"If I had {more_apples} apples, that would be {difference} more than my current {apples}\")\n",
    "\n",
    "# Multiplication (*)\n",
    "baskets = 4\n",
    "apples_per_basket = 6\n",
    "total_apples = baskets * apples_per_basket\n",
    "print(f\"{baskets} baskets × {apples_per_basket} apples each = {total_apples} total apples\")\n",
    "\n",
    "# Division (/)\n",
    "people = 3\n",
    "apples_to_share = 12\n",
    "apples_per_person = apples_to_share / people\n",
    "print(f\"{apples_to_share} apples shared among {people} people = {apples_per_person} apples each\")\n",
    "\n",
    "# Note: Regular division (/) always returns a float, even if the result is a whole number\n",
    "even_division = 10 / 2\n",
    "print(f\"10 / 2 = {even_division} (type: {type(even_division)})\")\n",
    "\n",
    "# ## Integer Division and Modulus\n",
    "\n",
    "# %%\n",
    "# Integer division (//) - returns the quotient without remainder\n",
    "apples = 17\n",
    "people = 5\n",
    "apples_per_person = apples // people\n",
    "print(f\"With integer division: {apples} // {people} = {apples_per_person} apples each\")\n",
    "\n",
    "# Modulus (%) - returns the remainder\n",
    "leftover_apples = apples % people\n",
    "print(f\"Leftover apples: {apples} % {people} = {leftover_apples}\")\n",
    "\n"
   ]
  },
  {
   "cell_type": "code",
   "execution_count": 54,
   "metadata": {},
   "outputs": [
    {
     "name": "stdout",
     "output_type": "stream",
     "text": [
      "17 apples divided among 5 people:\n",
      "  Each gets 3 apples\n",
      "  With 2 apples left over\n"
     ]
    }
   ],
   "source": [
    "# Combined example\n",
    "print(f\"{apples} apples divided among {people} people:\")\n",
    "print(f\"  Each gets {apples // people} apples\")\n",
    "print(f\"  With {apples % people} apples left over\")"
   ]
  },
  {
   "cell_type": "code",
   "execution_count": 55,
   "metadata": {},
   "outputs": [
    {
     "name": "stdout",
     "output_type": "stream",
     "text": [
      "5 squared (5²) = 25\n",
      "4 cubed (4³) = 64\n",
      "Area of a square with side 7 = 49\n"
     ]
    }
   ],
   "source": [
    "# Exponentiation (**) - raising to a power\n",
    "square = 5 ** 2\n",
    "cube = 4 ** 3\n",
    "print(f\"5 squared (5²) = {square}\")\n",
    "print(f\"4 cubed (4³) = {cube}\")\n",
    "\n",
    "# Real-world example: Calculating area\n",
    "side_length = 7\n",
    "area = side_length ** 2\n",
    "print(f\"Area of a square with side {side_length} = {area}\")\n"
   ]
  },
  {
   "cell_type": "code",
   "execution_count": 56,
   "metadata": {},
   "outputs": [
    {
     "name": "stdout",
     "output_type": "stream",
     "text": [
      "1.0715086071862673209484250490600018105614048117055E+301\n"
     ]
    }
   ],
   "source": [
    "from decimal import Decimal, getcontext\n",
    "# For high-precision calculations, use this\n",
    "\n",
    "# Set precision\n",
    "getcontext().prec = 50  # 50 decimal places\n",
    "\n",
    "result = Decimal('2') ** Decimal('1000')\n",
    "print(result)  # Very precise calculation"
   ]
  },
  {
   "cell_type": "code",
   "execution_count": 57,
   "metadata": {},
   "outputs": [
    {
     "name": "stdout",
     "output_type": "stream",
     "text": [
      "(-1+1.2246467991473532e-16j)\n"
     ]
    }
   ],
   "source": [
    "import cmath\n",
    "\n",
    "# Complex exponentiation\n",
    "result = cmath.exp(1j * cmath.pi)  # Euler's formula: e^(iπ) = -1\n",
    "print(result)  # (-1+0j)"
   ]
  },
  {
   "cell_type": "markdown",
   "metadata": {},
   "source": [
    "<h4>Key Takeaways:</h4> <br/><br/>\n",
    "Use ** for simple cases\n",
    "\n",
    "Use pow() for modular exponentiation or when you need consistent behavior\n",
    "\n",
    "Use math.pow() when you specifically want float results\n",
    "\n",
    "Use Decimal for high precision requirements\n",
    "\n",
    "Use cmath for complex number exponentiation\n",
    "\n",
    "Use modular exponentiation (pow(a, b, m)) for very large numbers to avoid overflow"
   ]
  },
  {
   "cell_type": "markdown",
   "metadata": {},
   "source": [
    "<h4>Order of Operations</h4>"
   ]
  },
  {
   "cell_type": "code",
   "execution_count": 58,
   "metadata": {},
   "outputs": [
    {
     "name": "stdout",
     "output_type": "stream",
     "text": [
      "2 + 3 × 4 = 14\n",
      "(2 + 3) × 4 = 20\n",
      "10 + 2 × 3² - 8 ÷ 4 = 26.0\n"
     ]
    }
   ],
   "source": [
    "# %% [markdown]\n",
    "# ## Order of Operations (PEMDAS)\n",
    "# \n",
    "# Python follows mathematical order of operations:\n",
    "# 1. Parentheses\n",
    "# 2. Exponents\n",
    "# 3. Multiplication and Division (left to right)\n",
    "# 4. Addition and Subtraction (left to right)\n",
    "\n",
    "# %%\n",
    "# Examples of order of operations\n",
    "result1 = 2 + 3 * 4  # Multiplication before addition\n",
    "result2 = (2 + 3) * 4  # Parentheses first\n",
    "print(f\"2 + 3 × 4 = {result1}\")\n",
    "print(f\"(2 + 3) × 4 = {result2}\")\n",
    "\n",
    "# More complex example\n",
    "calculation = 10 + 2 * 3 ** 2 - 8 / 4\n",
    "# Step by step: 3² = 9, then 2×9=18, then 8/4=2, then 10+18=28, then 28-2=26\n",
    "print(f\"10 + 2 × 3² - 8 ÷ 4 = {calculation}\")\n",
    "\n",
    "# Try with more examples. These are possible interview/aptitude questions"
   ]
  },
  {
   "cell_type": "code",
   "execution_count": 59,
   "metadata": {},
   "outputs": [
    {
     "name": "stdout",
     "output_type": "stream",
     "text": [
      "Current temperature: -5°C\n",
      "Bank balance: $-100 (overdrawn)\n",
      "After paying $30, $50 debt becomes $20\n",
      "-3 × 4 = -12\n",
      "-3 × -4 = 12\n"
     ]
    }
   ],
   "source": [
    "# ## Working with Negative Integers\n",
    "temperature = -5\n",
    "bank_balance = -100\n",
    "print(f\"Current temperature: {temperature}°C\")\n",
    "print(f\"Bank balance: ${bank_balance} (overdrawn)\")\n",
    "\n",
    "# Operations with negative numbers\n",
    "debt = 50\n",
    "payment = 30\n",
    "remaining_debt = debt - payment\n",
    "print(f\"After paying ${payment}, ${debt} debt becomes ${remaining_debt}\")\n",
    "\n",
    "# Multiplication with negatives\n",
    "negative_times_positive = -3 * 4\n",
    "negative_times_negative = -3 * -4\n",
    "print(f\"-3 × 4 = {negative_times_positive}\")\n",
    "print(f\"-3 × -4 = {negative_times_negative}\")\n"
   ]
  },
  {
   "cell_type": "markdown",
   "metadata": {},
   "source": [
    "<h4>Integer Type Conversion</h4>"
   ]
  },
  {
   "cell_type": "code",
   "execution_count": 60,
   "metadata": {},
   "outputs": [
    {
     "name": "stdout",
     "output_type": "stream",
     "text": [
      "String '25' converted to integer: 25 (type: <class 'int'>)\n",
      "Float 7.89 converted to integer: 7\n",
      "5.0 (type: float) is integer: False\n"
     ]
    }
   ],
   "source": [
    "# ## Integer Conversion and Type Checking\n",
    "\n",
    "# Converting str types to integers\n",
    "string_number = \"25\"\n",
    "converted_number = int(string_number)\n",
    "print(f\"String '25' converted to integer: {converted_number} (type: {type(converted_number)})\")\n",
    "# TRY having the str as non-number and see what is the error while converting.\n",
    "\n",
    "# Converting float to integer (truncates decimal part)\n",
    "float_number = 7.89\n",
    "int_from_float = int(float_number)\n",
    "print(f\"Float {float_number} converted to integer: {int_from_float}\")\n",
    "\n",
    "# Checking if a value is an integer\n",
    "value = 5.0 # Try for 5, 5.0, \"5\", 5.7\n",
    "is_int = isinstance(value, int)\n",
    "print(f\"{value} (type: {type(value).__name__}) is integer: {is_int}\")\n"
   ]
  },
  {
   "cell_type": "markdown",
   "metadata": {},
   "source": [
    "<h3>Bools</h3>"
   ]
  },
  {
   "cell_type": "code",
   "execution_count": 61,
   "metadata": {},
   "outputs": [
    {
     "name": "stdout",
     "output_type": "stream",
     "text": [
      "10 == 5: False\n",
      "10 != 5: True\n",
      "10 > 5: True\n",
      "10 < 5: False\n",
      "10 >= 5: True\n",
      "10 <= 5: False\n"
     ]
    }
   ],
   "source": [
    "# %%\n",
    "# Comparison operators return Boolean values (True/False)\n",
    "a = 10\n",
    "b = 5\n",
    "\n",
    "print(f\"{a} == {b}: {a == b}\")  # Equal to\n",
    "print(f\"{a} != {b}: {a != b}\")  # Not equal to\n",
    "print(f\"{a} > {b}: {a > b}\")    # Greater than\n",
    "print(f\"{a} < {b}: {a < b}\")    # Less than\n",
    "print(f\"{a} >= {b}: {a >= b}\")  # Greater than or equal to\n",
    "print(f\"{a} <= {b}: {a <= b}\")  # Less than or equal to"
   ]
  },
  {
   "cell_type": "markdown",
   "metadata": {},
   "source": [
    "<h3>Common Math Functions</h3>"
   ]
  },
  {
   "cell_type": "code",
   "execution_count": 62,
   "metadata": {},
   "outputs": [
    {
     "name": "stdout",
     "output_type": "stream",
     "text": [
      "Absolute value of -10 is 10\n",
      "pow(3, 4) = 81\n",
      "divmod(17, 5) = quotient: 3, remainder: 2\n",
      "round(7.6) = 8\n"
     ]
    }
   ],
   "source": [
    "# abs() - absolute value\n",
    "negative_number = -10\n",
    "absolute_value = abs(negative_number)\n",
    "print(f\"Absolute value of {negative_number} is {absolute_value}\")\n",
    "\n",
    "# pow() - power function (alternative to **)\n",
    "result = pow(3, 4)  # 3 to the power of 4\n",
    "print(f\"pow(3, 4) = {result}\")\n",
    "\n",
    "# divmod() - returns both quotient and remainder\n",
    "quotient, remainder = divmod(17, 5)\n",
    "print(f\"divmod(17, 5) = quotient: {quotient}, remainder: {remainder}\")\n",
    "\n",
    "# round() - rounds to nearest integer (but returns float if ndigits is specified)\n",
    "rounded = round(7.6)\n",
    "print(f\"round(7.6) = {rounded}\")\n"
   ]
  },
  {
   "cell_type": "markdown",
   "metadata": {},
   "source": [
    "<h3>Floating Points</h3>\n",
    "<p>Floats (floating-point numbers) are used to represent real numbers with decimal points.</p>\n",
    "<p>**Real-world analogy**: Think of floats like measuring temperature, weight, or distance - they often need decimal precision.</p>"
   ]
  },
  {
   "cell_type": "code",
   "execution_count": 63,
   "metadata": {},
   "outputs": [
    {
     "name": "stdout",
     "output_type": "stream",
     "text": [
      "Temperature: 23.7°C\n",
      "Weight: 68.5 kg\n",
      "Height: 1.75 m\n",
      "Pi: 3.141592653589793\n",
      "Addition: 10.5 + 3.2 = 13.7\n",
      "Subtraction: 10.5 - 3.2 = 7.3\n",
      "Multiplication: 10.5 × 3.2 = 33.6\n",
      "Division: 10.5 ÷ 3.2 = 3.28125\n",
      "Exponentiation: 10.5² = 110.25\n"
     ]
    }
   ],
   "source": [
    "# Basic float examples\n",
    "temperature = 23.7\n",
    "weight = 68.5\n",
    "height = 1.75\n",
    "pi = 3.141592653589793\n",
    "\n",
    "print(f\"Temperature: {temperature}°C\")\n",
    "print(f\"Weight: {weight} kg\")\n",
    "print(f\"Height: {height} m\")\n",
    "print(f\"Pi: {pi}\")\n",
    "\n",
    "# Basic arithmetic with floats\n",
    "a = 10.5\n",
    "b = 3.2\n",
    "\n",
    "print(f\"Addition: {a} + {b} = {a + b}\")\n",
    "print(f\"Subtraction: {a} - {b} = {a - b}\")\n",
    "print(f\"Multiplication: {a} × {b} = {a * b}\")\n",
    "print(f\"Division: {a} ÷ {b} = {a / b}\")\n",
    "print(f\"Exponentiation: {a}² = {a ** 2}\")"
   ]
  },
  {
   "cell_type": "code",
   "execution_count": 64,
   "metadata": {},
   "outputs": [
    {
     "name": "stdout",
     "output_type": "stream",
     "text": [
      "Integer + Float: 5 + 2.5 = 7.5 (type: <class 'float'>)\n"
     ]
    }
   ],
   "source": [
    "# Mixed operations with integers\n",
    "integer_num = 5\n",
    "float_num = 2.5\n",
    "\n",
    "result = integer_num + float_num\n",
    "print(f\"Integer + Float: {integer_num} + {float_num} = {result} (type: {type(result)})\")\n"
   ]
  },
  {
   "cell_type": "code",
   "execution_count": 65,
   "metadata": {},
   "outputs": [
    {
     "name": "stdout",
     "output_type": "stream",
     "text": [
      "0.1 + 0.2 = 0.30000000000000004\n",
      "0.3 = 0.3\n",
      "Are they equal? False\n",
      "Are they approximately equal? True\n"
     ]
    }
   ],
   "source": [
    "\n",
    "# Be careful with float comparisons due to precision issues\n",
    "a = 0.1 + 0.2\n",
    "b = 0.3\n",
    "\n",
    "print(f\"0.1 + 0.2 = {a}\")\n",
    "print(f\"0.3 = {b}\")\n",
    "print(f\"Are they equal? {a == b}\")  # This might be False!\n",
    "\n",
    "# Better way to compare floats\n",
    "tolerance = 1e-10  # Very small tolerance\n",
    "print(f\"Are they approximately equal? {abs(a - b) < tolerance}\")"
   ]
  },
  {
   "cell_type": "code",
   "execution_count": 66,
   "metadata": {},
   "outputs": [
    {
     "name": "stdout",
     "output_type": "stream",
     "text": [
      "Positive infinity: inf\n",
      "Negative infinity: -inf\n"
     ]
    },
    {
     "ename": "ZeroDivisionError",
     "evalue": "float division by zero",
     "output_type": "error",
     "traceback": [
      "\u001b[31m---------------------------------------------------------------------------\u001b[39m",
      "\u001b[31mZeroDivisionError\u001b[39m                         Traceback (most recent call last)",
      "\u001b[36mCell\u001b[39m\u001b[36m \u001b[39m\u001b[32mIn[66]\u001b[39m\u001b[32m, line 9\u001b[39m\n\u001b[32m      7\u001b[39m \u001b[38;5;28mprint\u001b[39m(\u001b[33mf\u001b[39m\u001b[33m\"\u001b[39m\u001b[33mPositive infinity: \u001b[39m\u001b[38;5;132;01m{\u001b[39;00mpositive_infinity\u001b[38;5;132;01m}\u001b[39;00m\u001b[33m\"\u001b[39m)\n\u001b[32m      8\u001b[39m \u001b[38;5;28mprint\u001b[39m(\u001b[33mf\u001b[39m\u001b[33m\"\u001b[39m\u001b[33mNegative infinity: \u001b[39m\u001b[38;5;132;01m{\u001b[39;00mnegative_infinity\u001b[38;5;132;01m}\u001b[39;00m\u001b[33m\"\u001b[39m)\n\u001b[32m----> \u001b[39m\u001b[32m9\u001b[39m \u001b[38;5;28mprint\u001b[39m(\u001b[33mf\u001b[39m\u001b[33m\"\u001b[39m\u001b[33m10 / 0 = \u001b[39m\u001b[38;5;132;01m{\u001b[39;00m\u001b[32;43m10.0\u001b[39;49m\u001b[38;5;250;43m \u001b[39;49m\u001b[43m/\u001b[49m\u001b[38;5;250;43m \u001b[39;49m\u001b[32;43m0\u001b[39;49m\u001b[38;5;132;01m}\u001b[39;00m\u001b[33m\"\u001b[39m)  \u001b[38;5;66;03m# Does this work?? This results in infinity. Run to see the error.\u001b[39;00m\n",
      "\u001b[31mZeroDivisionError\u001b[39m: float division by zero"
     ]
    }
   ],
   "source": [
    "# ## Special Float Values\n",
    "\n",
    "# Infinity\n",
    "positive_infinity = float('inf')\n",
    "negative_infinity = float('-inf')\n",
    "\n",
    "print(f\"Positive infinity: {positive_infinity}\")\n",
    "print(f\"Negative infinity: {negative_infinity}\")\n",
    "print(f\"10 / 0 = {10.0 / 0}\")  # Does this work?? This results in infinity. Run to see the error.\n"
   ]
  },
  {
   "cell_type": "code",
   "execution_count": 36,
   "metadata": {},
   "outputs": [
    {
     "name": "stdout",
     "output_type": "stream",
     "text": [
      "NaN: nan\n",
      "0 / 0 = nan\n",
      "Is infinity? True\n",
      "Is NaN? True\n"
     ]
    }
   ],
   "source": [
    "\n",
    "# Not a Number (NaN)\n",
    "nan_value = float('nan')\n",
    "print(f\"NaN: {nan_value}\")\n",
    "print(f\"0 / 0 = {0.0 / nan_value}\")  # This creates NaN\n",
    "\n",
    "# Checking for special values\n",
    "import math\n",
    "print(f\"Is infinity? {math.isinf(positive_infinity)}\")\n",
    "print(f\"Is NaN? {math.isnan(nan_value)}\")"
   ]
  },
  {
   "cell_type": "markdown",
   "metadata": {},
   "source": [
    "<h4>Floating Point Formatting</h4>"
   ]
  },
  {
   "cell_type": "code",
   "execution_count": 43,
   "metadata": {},
   "outputs": [
    {
     "name": "stdout",
     "output_type": "stream",
     "text": [
      "Default: 19.98765\n",
      "2 decimal places: 19.99\n",
      "4 decimal places: 19.9876\n",
      "No decimal places: 20\n",
      "3 places on the number and 2 decimal places: 19.99\n",
      "With commas: 1,234,567.89\n",
      "Discount: 15.8%\n",
      "Discount (2 decimal places): 15.78%\n",
      "Scientific: 1.23e-07\n"
     ]
    }
   ],
   "source": [
    "# Basic formatting with f-strings\n",
    "price = 19.98765\n",
    "print(f\"Default: {price}\")\n",
    "print(f\"2 decimal places: {price:.2f}\")\n",
    "print(f\"4 decimal places: {price:.4f}\")\n",
    "print(f\"No decimal places: {price:.0f}\")\n",
    "\n",
    "# What happens here? Why?\n",
    "print(f\"3 places on the number and 2 decimal places: {price:3.2f}\")\n",
    "\n",
    "# Formatting with commas for thousands\n",
    "large_number = 1234567.89123\n",
    "print(f\"With commas: {large_number:,.2f}\")\n",
    "\n",
    "# Percentage formatting\n",
    "discount = 0.1578\n",
    "print(f\"Discount: {discount:.1%}\")\n",
    "print(f\"Discount (2 decimal places): {discount:.2%}\")\n",
    "\n",
    "# Scientific notation\n",
    "tiny_number = 0.00000012345\n",
    "print(f\"Scientific: {tiny_number:.2e}\")\n"
   ]
  },
  {
   "cell_type": "markdown",
   "metadata": {},
   "source": [
    "<h4>Strings and Text Processing</h4>"
   ]
  },
  {
   "cell_type": "code",
   "execution_count": 118,
   "metadata": {},
   "outputs": [
    {
     "name": "stdout",
     "output_type": "stream",
     "text": [
      "Original: '   Learning Python is FUN! #coding #python   '\n",
      "Cleaned: 'Learning Python is FUN! #coding #python'\n",
      "Word count: 6\n",
      "Hashtags: ['#coding', '#python']\n",
      "\n",
      "=== RECEIPT ===\n",
      "Item: Coffee          $3.50 x 2\n",
      "Total: $                   7.00\n",
      "================\n",
      "\n"
     ]
    }
   ],
   "source": [
    "# String operations\n",
    "post = \"   Learning Python is FUN! #coding #python   \"\n",
    "\n",
    "# Cleaning and analyzing the post\n",
    "clean_left = post.lstrip() # removes white spaces on left sides\n",
    "clean_right = post.rstrip() # removes white spaces on right sides\n",
    "clean_post = post.strip() # removes white spaces on both sides\n",
    "print(f\"Original: '{post}'\")\n",
    "print(f\"Cleaned spaces on left: '{clean_left}'\")\n",
    "print(f\"Cleaned spaces on right: '{clean_right}'\")\n",
    "print(f\"Cleaned: '{clean_post}'\")\n",
    "\n",
    "lower_post = clean_post.lower()\n",
    "word_count = len(clean_post.split())\n",
    "# REVISIT after Chap 3\n",
    "hashtags = [word for word in clean_post.split() if word.startswith('#')] # Compound statement. First for loop is executed, within each invocation if condition is used. \n",
    "\n",
    "print(f\"Original: '{post}'\")\n",
    "print(f\"Word count: {word_count}\")\n",
    "print(f\"Hashtags: {hashtags}\")\n",
    "\n",
    "# String formatting - Receipt generation\n",
    "item = \"Coffee\"\n",
    "price = 3.50\n",
    "quantity = 2\n",
    "\n",
    "receipt = f\"\"\"\n",
    "=== RECEIPT ===\n",
    "Item: {item:15} ${price:.2f} x {quantity}\n",
    "Total: ${price * quantity:23.2f}\n",
    "================\n",
    "\"\"\"\n",
    "print(receipt)"
   ]
  },
  {
   "cell_type": "markdown",
   "metadata": {},
   "source": [
    "<h4>Functions</h4>"
   ]
  },
  {
   "cell_type": "code",
   "execution_count": null,
   "metadata": {},
   "outputs": [
    {
     "name": "stdout",
     "output_type": "stream",
     "text": [
      "A turkey sandwich on whole wheat bread with mustard\n",
      "Total: $61.50, Tax: $4.00, Tip: $7.50\n"
     ]
    }
   ],
   "source": [
    "# Real-world function: Recipe instructions\n",
    "def make_sandwich(bread, filling, sauce=\"mayo\"):\n",
    "    \"\"\"\n",
    "    Make a sandwich with given ingredients\n",
    "    \n",
    "    Args:\n",
    "        bread (str): Type of bread\n",
    "        filling (str): Main filling\n",
    "        sauce (str): Sauce to use (default: mayo)\n",
    "    \n",
    "    Returns:\n",
    "        str: Description of the sandwich\n",
    "    \"\"\"\n",
    "    return f\"A {filling} sandwich on {bread} bread with {sauce}\"\n",
    "\n",
    "# Using the function\n",
    "my_sandwich = make_sandwich(\"whole wheat\", \"turkey\", \"mustard\")\n",
    "print(my_sandwich)\n",
    "\n",
    "# Function with multiple returns - Calculator\n",
    "def calculate_bill(amount, tax_rate=0.08, tip=0.15):\n",
    "    \"\"\"Calculate total bill with tax and tip\"\"\"\n",
    "    tax_amount = amount * tax_rate\n",
    "    tip_amount = amount * tip\n",
    "    total = amount + tax_amount + tip_amount\n",
    "    return total, tax_amount, tip_amount\n",
    "\n",
    "total_bill, tax, tip = calculate_bill(50)\n",
    "print(f\"Total: ${total_bill:.2f}, Tax: ${tax:.2f}, Tip: ${tip:.2f}\")"
   ]
  }
 ],
 "metadata": {
  "kernelspec": {
   "display_name": "Python 3",
   "language": "python",
   "name": "python3"
  },
  "language_info": {
   "codemirror_mode": {
    "name": "ipython",
    "version": 3
   },
   "file_extension": ".py",
   "mimetype": "text/x-python",
   "name": "python",
   "nbconvert_exporter": "python",
   "pygments_lexer": "ipython3",
   "version": "3.11.2"
  }
 },
 "nbformat": 4,
 "nbformat_minor": 2
}
