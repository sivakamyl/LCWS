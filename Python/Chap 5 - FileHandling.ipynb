{
 "cells": [
  {
   "cell_type": "markdown",
   "metadata": {},
   "source": [
    "<h2> File Handling </h2>"
   ]
  },
  {
   "cell_type": "markdown",
   "metadata": {},
   "source": [
    "File handling is a crucial topic. From resumes in Applicant Tracking System to PDF editor applications and everything in between, files play a crucial role. File handling is like a digital filing cabinet for your programs. Just like you store important documents in folders for later use, Python programs use file handling to save information between sessions and share data between different applications."
   ]
  },
  {
   "cell_type": "markdown",
   "metadata": {},
   "source": [
    "Python has several functions for creating, reading, updating, and deleting files. All CRUD operations. Before starting, let's understand the modes of files in Python"
   ]
  },
  {
   "cell_type": "markdown",
   "metadata": {},
   "source": [
    "<h5>File Modes in Python</h5>"
   ]
  },
  {
   "cell_type": "markdown",
   "metadata": {},
   "source": [
    "Create Mode - \"x\" - This creates the specified file and returns an error if the file already exists\n",
    "\n",
    "Read Mode - \"r\" - This is the default mode. We use this to open a file in read mode ie only reading is allowed, no updates. If the file does not exist, it creates one for us.\n",
    "\n",
    "Write Mode - \"w\" - This opens the file in edit mode. If the file does not exist, it creates a new one. If it exists, then the data in it is deleted and the new content is written to the file freshly.\n",
    "\n",
    "Append Mode - \"a\" - This opens a file in edit mode. If the file does not exist, it creates a new one. If it exists, then the data in it is preserved and the new content is added to the end of the file. So, old and new data are preserved.\n"
   ]
  },
  {
   "cell_type": "markdown",
   "metadata": {},
   "source": [
    "Let's create a file now - you can use the \"w\" mode or \"x\" mode"
   ]
  },
  {
   "cell_type": "code",
   "execution_count": 3,
   "metadata": {},
   "outputs": [],
   "source": [
    "f = open(\"NewFile.txt\", \"w\")"
   ]
  },
  {
   "cell_type": "markdown",
   "metadata": {},
   "source": [
    "If you try now using \"x\" mode, you will see an error. This is because the file already exists"
   ]
  },
  {
   "cell_type": "code",
   "execution_count": 4,
   "metadata": {},
   "outputs": [
    {
     "ename": "FileExistsError",
     "evalue": "[Errno 17] File exists: 'NewFile.txt'",
     "output_type": "error",
     "traceback": [
      "\u001b[31m---------------------------------------------------------------------------\u001b[39m",
      "\u001b[31mFileExistsError\u001b[39m                           Traceback (most recent call last)",
      "\u001b[36mCell\u001b[39m\u001b[36m \u001b[39m\u001b[32mIn[4]\u001b[39m\u001b[32m, line 1\u001b[39m\n\u001b[32m----> \u001b[39m\u001b[32m1\u001b[39m f = \u001b[38;5;28;43mopen\u001b[39;49m\u001b[43m(\u001b[49m\u001b[33;43m\"\u001b[39;49m\u001b[33;43mNewFile.txt\u001b[39;49m\u001b[33;43m\"\u001b[39;49m\u001b[43m,\u001b[49m\u001b[43m \u001b[49m\u001b[33;43m\"\u001b[39;49m\u001b[33;43mx\u001b[39;49m\u001b[33;43m\"\u001b[39;49m\u001b[43m)\u001b[49m\n",
      "\u001b[36mFile \u001b[39m\u001b[32m~/Library/Python/3.11/lib/python/site-packages/IPython/core/interactiveshell.py:343\u001b[39m, in \u001b[36m_modified_open\u001b[39m\u001b[34m(file, *args, **kwargs)\u001b[39m\n\u001b[32m    336\u001b[39m \u001b[38;5;28;01mif\u001b[39;00m file \u001b[38;5;129;01min\u001b[39;00m {\u001b[32m0\u001b[39m, \u001b[32m1\u001b[39m, \u001b[32m2\u001b[39m}:\n\u001b[32m    337\u001b[39m     \u001b[38;5;28;01mraise\u001b[39;00m \u001b[38;5;167;01mValueError\u001b[39;00m(\n\u001b[32m    338\u001b[39m         \u001b[33mf\u001b[39m\u001b[33m\"\u001b[39m\u001b[33mIPython won\u001b[39m\u001b[33m'\u001b[39m\u001b[33mt let you open fd=\u001b[39m\u001b[38;5;132;01m{\u001b[39;00mfile\u001b[38;5;132;01m}\u001b[39;00m\u001b[33m by default \u001b[39m\u001b[33m\"\u001b[39m\n\u001b[32m    339\u001b[39m         \u001b[33m\"\u001b[39m\u001b[33mas it is likely to crash IPython. If you know what you are doing, \u001b[39m\u001b[33m\"\u001b[39m\n\u001b[32m    340\u001b[39m         \u001b[33m\"\u001b[39m\u001b[33myou can use builtins\u001b[39m\u001b[33m'\u001b[39m\u001b[33m open.\u001b[39m\u001b[33m\"\u001b[39m\n\u001b[32m    341\u001b[39m     )\n\u001b[32m--> \u001b[39m\u001b[32m343\u001b[39m \u001b[38;5;28;01mreturn\u001b[39;00m \u001b[43mio_open\u001b[49m\u001b[43m(\u001b[49m\u001b[43mfile\u001b[49m\u001b[43m,\u001b[49m\u001b[43m \u001b[49m\u001b[43m*\u001b[49m\u001b[43margs\u001b[49m\u001b[43m,\u001b[49m\u001b[43m \u001b[49m\u001b[43m*\u001b[49m\u001b[43m*\u001b[49m\u001b[43mkwargs\u001b[49m\u001b[43m)\u001b[49m\n",
      "\u001b[31mFileExistsError\u001b[39m: [Errno 17] File exists: 'NewFile.txt'"
     ]
    }
   ],
   "source": [
    "f = open(\"NewFile.txt\", \"x\")"
   ]
  },
  {
   "cell_type": "markdown",
   "metadata": {},
   "source": [
    "Let's write something to the file. We use the \"w\" mode for this and the write() function. Since the file already exists, it doesn't create a new one in \"w\" mode."
   ]
  },
  {
   "cell_type": "code",
   "execution_count": 5,
   "metadata": {},
   "outputs": [],
   "source": [
    "with open(\"NewFile.txt\", \"w\") as f:\n",
    "  f.write(\"Yaaay! I have written the content!\")\n",
    "  "
   ]
  },
  {
   "cell_type": "markdown",
   "metadata": {},
   "source": [
    "To add more content, we use \"a\" (append) mode. Check the file after execution"
   ]
  },
  {
   "cell_type": "code",
   "execution_count": 6,
   "metadata": {},
   "outputs": [],
   "source": [
    "with open(\"NewFile.txt\", \"a\") as f:\n",
    "  f.write(\"\\nYaaay! I have written more content!\\n\")\n",
    "  f.writelines([\"Line1\", \"Line2\\n\",\"Line3\"]) # writes multiple lines"
   ]
  },
  {
   "cell_type": "markdown",
   "metadata": {},
   "source": [
    "Now if we use \"w\" mode to open the file, the old content will be erased."
   ]
  },
  {
   "cell_type": "code",
   "execution_count": null,
   "metadata": {},
   "outputs": [],
   "source": [
    "with open(\"NewFile.txt\", \"w\") as f:\n",
    "  f.write(\"Yaaay! This is new content! Old data is gone!\")\n",
    "  f.close() # use this to safely save and close the file from code. This will move the pointer back to the start of the file."
   ]
  },
  {
   "cell_type": "markdown",
   "metadata": {},
   "source": [
    "I have created DemoFile.txt with a poem. Let's learn how to read from it."
   ]
  },
  {
   "cell_type": "code",
   "execution_count": 11,
   "metadata": {},
   "outputs": [
    {
     "name": "stdout",
     "output_type": "stream",
     "text": [
      "# Ode to Python Learning\n",
      "\n",
      "In digital realms where logic plays,\n",
      "A language bright in many ways.\n",
      "With syntax clean and reading clear,\n",
      "Python whispers, \"Have no fear.\"\n",
      "\n",
      "From `print(\"Hello\")` your start is made,\n",
      "A journey through the code brigade.\n",
      "With indentation, structured right,\n",
      "Your programs grow in pure daylight.\n",
      "\n",
      "`If`, `else`, and `elif` you'll learn,\n",
      "As logic's flame begins to burn.\n",
      "With `for` and `while` you'll loop around,\n",
      "Until solutions you have found.\n",
      "\n",
      "Then functions come to organize,\n",
      "With parameters that make you wise.\n",
      "You'll pass in args and get returns,\n",
      "As knowledge grows and passion burns.\n",
      "\n",
      "Then collections in their varied forms,\n",
      "Through lists and dicts you'll weather storms.\n",
      "With tuples, sets, they all have place,\n",
      "In memory's organized space.\n",
      "\n",
      "Then classes with their methods bound,\n",
      "Where objects new and rich are found.\n",
      "Inheritance and methods too,\n",
      "OOP comes into your view.\n",
      "\n",
      "Through errors you will sometimes fall,\n",
      "With tracebacks looking ten feet tall.\n",
      "But `try` and `except` will see you through,\n",
      "Each challenge making wisdom true.\n",
      "\n",
      "You'll import from the standard library,\n",
      "Making capabilities grow and vary.\n",
      "With modules like `math` and `datetime` too,\n",
      "So much that Python lets you do.\n",
      "\n",
      "Then on to data, science, art,\n",
      "Web frameworks playing their part.\n",
      "From Django flask to pandas strong,\n",
      "The Python ecosystem's long.\n",
      "\n",
      "So fret not at the coding task,\n",
      "No need for any fearful mask.\n",
      "Each line you write, each bug you fix,\n",
      "Builds up your programming tricks.\n",
      "\n",
      "The path is long but filled with light,\n",
      "Of problems solved both day and night.\n",
      "So carry on, you'll get there soon,\n",
      "Beneath the digital moon.\n",
      "The number of words : 267\n"
     ]
    }
   ],
   "source": [
    "f = open(\"DemoFile.txt\")\n",
    "content = f.read()\n",
    "print (content)\n",
    "print(f\"The number of words : {len(content.split())}\")"
   ]
  },
  {
   "cell_type": "code",
   "execution_count": 13,
   "metadata": {},
   "outputs": [
    {
     "name": "stdout",
     "output_type": "stream",
     "text": [
      "Number of lines in the poem : 56\n",
      "Ode to Pyt\n",
      "Number of characters read : 10\n"
     ]
    }
   ],
   "source": [
    "# Use files enclosed in \"with\" for cleaner code\n",
    "\n",
    "with open(\"DemoFile.txt\", \"r\") as f:\n",
    "    lines = f.readlines()\n",
    "    print (f\"Number of lines in the poem : {len(lines)}\")\n",
    "    f.close()\n",
    "\n",
    "with open(\"DemoFile.txt\", \"r\") as f:\n",
    "    lines = f.read(10) # read only 10 characters\n",
    "    print (lines)\n",
    "    print (f\"Number of characters read : {len(lines)}\")\n",
    "    f.close()"
   ]
  },
  {
   "cell_type": "markdown",
   "metadata": {},
   "source": [
    "An example with exceptions"
   ]
  },
  {
   "cell_type": "code",
   "execution_count": null,
   "metadata": {},
   "outputs": [],
   "source": [
    "\n",
    "# Reading and writing files - Diary application\n",
    "def write_diary_entry(date, content):\n",
    "    \"\"\"Write a diary entry to a file\"\"\"\n",
    "    filename = f\"diary_{date.replace('/', '_')}.txt\"\n",
    "    \n",
    "    with open(filename, 'w') as file:\n",
    "        file.write(f\"Date: {date}\\n\")\n",
    "        file.write(\"=\" * 30 + \"\\n\")\n",
    "        file.write(content + \"\\n\")\n",
    "    \n",
    "    print(f\"Diary entry saved as {filename}\")\n",
    "\n",
    "def read_diary_entry(filename):\n",
    "    \"\"\"Read a diary entry from a file\"\"\"\n",
    "    try:\n",
    "        with open(filename, 'r') as file:\n",
    "            content = file.read()\n",
    "        return content\n",
    "    except FileNotFoundError:\n",
    "        return \"Diary entry not found.\"\n",
    "\n",
    "# Usage\n",
    "write_diary_entry(\"2023/10/15\", \"Today I learned Python file handling. It was amazing!\")\n",
    "entry = read_diary_entry(\"diary_2023_10_15.txt\")\n",
    "print(\"\\nReading diary entry:\")\n",
    "print(entry)"
   ]
  }
 ],
 "metadata": {
  "kernelspec": {
   "display_name": "Python 3",
   "language": "python",
   "name": "python3"
  },
  "language_info": {
   "codemirror_mode": {
    "name": "ipython",
    "version": 3
   },
   "file_extension": ".py",
   "mimetype": "text/x-python",
   "name": "python",
   "nbconvert_exporter": "python",
   "pygments_lexer": "ipython3",
   "version": "3.11.2"
  }
 },
 "nbformat": 4,
 "nbformat_minor": 2
}
