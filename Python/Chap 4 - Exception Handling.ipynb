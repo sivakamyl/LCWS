{
 "cells": [
  {
   "cell_type": "markdown",
   "metadata": {},
   "source": [
    "<h3>Exception Handling</h3>"
   ]
  },
  {
   "cell_type": "markdown",
   "metadata": {},
   "source": [
    "During execution/run-time, there may some errors that cause the program to stop. Let's see an example"
   ]
  },
  {
   "cell_type": "code",
   "execution_count": 2,
   "metadata": {},
   "outputs": [
    {
     "ename": "ValueError",
     "evalue": "invalid literal for int() with base 10: 'Seventy Two'",
     "output_type": "error",
     "traceback": [
      "\u001b[31m---------------------------------------------------------------------------\u001b[39m",
      "\u001b[31mValueError\u001b[39m                                Traceback (most recent call last)",
      "\u001b[36mCell\u001b[39m\u001b[36m \u001b[39m\u001b[32mIn[2]\u001b[39m\u001b[32m, line 2\u001b[39m\n\u001b[32m      1\u001b[39m someStr = \u001b[33m\"\u001b[39m\u001b[33mSeventy Two\u001b[39m\u001b[33m\"\u001b[39m\n\u001b[32m----> \u001b[39m\u001b[32m2\u001b[39m intVal = \u001b[38;5;28;43mint\u001b[39;49m\u001b[43m(\u001b[49m\u001b[43msomeStr\u001b[49m\u001b[43m)\u001b[49m \u001b[38;5;66;03m# this fails as type casting to int works only when the string is a number\u001b[39;00m\n\u001b[32m      4\u001b[39m \u001b[38;5;66;03m# This results in ValueError\u001b[39;00m\n\u001b[32m      5\u001b[39m \n\u001b[32m      6\u001b[39m \u001b[38;5;66;03m# Is the next piece of code executed?\u001b[39;00m\n\u001b[32m      8\u001b[39m \u001b[38;5;28;01mfor\u001b[39;00m i \u001b[38;5;129;01min\u001b[39;00m \u001b[38;5;28mrange\u001b[39m(\u001b[32m10\u001b[39m):\n",
      "\u001b[31mValueError\u001b[39m: invalid literal for int() with base 10: 'Seventy Two'"
     ]
    }
   ],
   "source": [
    "someStr = \"Seventy Two\"\n",
    "intVal = int(someStr) # this fails as type casting to int works only when the string is a number\n",
    "\n",
    "# This results in ValueError\n",
    "\n",
    "# Is the next piece of code executed?\n",
    "\n",
    "for i in range(10):\n",
    "    if i%2 == 0:\n",
    "        print (i, end=\",\")"
   ]
  },
  {
   "cell_type": "markdown",
   "metadata": {},
   "source": [
    "As we can see here, the code abruplty stops when it sees VALUE ERROR - this is an exception!\n",
    "\n",
    "Unfortunately, the next for loop is not executed at all. This is not good. "
   ]
  },
  {
   "cell_type": "markdown",
   "metadata": {},
   "source": [
    "Think about this - if the same happens when we shop on Amazon and the exception causes us to stop adding items to cart? It will be fatal for business anf not a good experience for the user. To avoid this kind of situation, we need handle these exceptions. "
   ]
  },
  {
   "cell_type": "markdown",
   "metadata": {},
   "source": [
    "Let's see how to do this in python."
   ]
  },
  {
   "cell_type": "markdown",
   "metadata": {},
   "source": [
    "Any risky block of code is always \"TRIED\" by python. Now, if it sees an exception, the program has a way to handle it. This is done using the try-catch block."
   ]
  },
  {
   "cell_type": "code",
   "execution_count": 4,
   "metadata": {},
   "outputs": [
    {
     "name": "stdout",
     "output_type": "stream",
     "text": [
      "Exception has occurred: invalid literal for int() with base 10: 'Seventy Two'\n",
      "Printing even numbers: \n",
      "\n",
      "0,2,4,6,8,"
     ]
    }
   ],
   "source": [
    "try: # Our code goes within this block\n",
    "    someStr = \"Seventy Two\"\n",
    "    intVal = int(someStr)\n",
    "except Exception as e: # Control shifts here when exception occurs\n",
    "    print (f\"Exception has occurred: {e}\")\n",
    "\n",
    "print (\"Printing even numbers: \\n\")\n",
    "for i in range(10):\n",
    "    if i%2 == 0:\n",
    "        print (i, end=\",\")"
   ]
  },
  {
   "cell_type": "markdown",
   "metadata": {},
   "source": [
    "NOW!! We see that the \"except\" block consumes the Exception and elegantly handles it. The program continues to execute the next piece of code as well without hindrance."
   ]
  },
  {
   "cell_type": "markdown",
   "metadata": {},
   "source": [
    "We can also have multiple exceptions and also handle each type of exception differently. Let's see an example"
   ]
  },
  {
   "cell_type": "code",
   "execution_count": 7,
   "metadata": {},
   "outputs": [
    {
     "name": "stdout",
     "output_type": "stream",
     "text": [
      "In try block\n",
      "I am the defauklt exception block.\n"
     ]
    }
   ],
   "source": [
    "fruits = [\"apple\", \"mango\",\"strawberry\"]\n",
    "try:\n",
    "    # Uncomment one line at a time and see the type of exception\n",
    "    print (\"In try block\")\n",
    "    #print (fruits[10])\n",
    "    #print (int(fruits[2]))\n",
    "    #print (4/0)\n",
    "except IndexError:\n",
    "    print (\"Index out of bounds! Did you give a value > length of list?\")\n",
    "except ValueError:\n",
    "    print (\"Oops! Are you trying a wrong casting?\")\n",
    "except:\n",
    "    print (\"I am the defauklt exception block.\")\n",
    "finally:\n",
    "    print (\"Exception Handling is fun!!!!!\")"
   ]
  },
  {
   "cell_type": "markdown",
   "metadata": {},
   "source": [
    "Did you notice that \"Exception Handling is fun!!!!!\" is printed ALWAYS!! Yes, the finally block executes irrespective of whether exception occurs or not! "
   ]
  },
  {
   "cell_type": "markdown",
   "metadata": {},
   "source": [
    "We can also \"RAISE\" exceptions for cases that are usually correct but due to some custom logic, we want execution to behave differently. Say you are building \"Passport Seva\" - you will need to ensure that the applicant is over 18 years of age. If age is < 18, then we can raise an Exception in the try block. "
   ]
  },
  {
   "cell_type": "code",
   "execution_count": 1,
   "metadata": {},
   "outputs": [
    {
     "name": "stdout",
     "output_type": "stream",
     "text": [
      "Alice's age : 25\n",
      "Checking applicant age: 25 years...\n",
      "✅ Age validation passed!\n",
      "--------------\n",
      "Bob's age : 17\n",
      "Checking applicant age: 17 years...\n",
      "❌ Application rejected: Applicant is only 17 years old. Must be 18 or older for passport application.\n",
      "--------------\n",
      "Charlie's age : 20\n",
      "Checking applicant age: 20 years...\n",
      "✅ Age validation passed!\n",
      "--------------\n",
      "Diana's age : 22\n",
      "Checking applicant age: 22 years...\n",
      "✅ Age validation passed!\n",
      "--------------\n"
     ]
    }
   ],
   "source": [
    "# This is a custom Exception\n",
    "class UnderageException(Exception):\n",
    "    \"\"\"Custom exception for applicants under 18\"\"\"\n",
    "    # You can write any code here - maybe give information to the Articles on application rules or provide a checklist etc.\n",
    "    pass\n",
    "\n",
    "def validate_passport_application(age):\n",
    "    \"\"\"\n",
    "    Validates if applicant is eligible for passport based on age\n",
    "    Raises UnderageException if applicant is under 18\n",
    "    \"\"\"\n",
    "    try:\n",
    "        print(f\"Checking applicant age: {age} years...\")\n",
    "        \n",
    "        # Custom business logic - must be 18 or older\n",
    "        if age < 18:\n",
    "            raise UnderageException(f\"Applicant is only {age} years old. Must be 18 or older for passport application.\")\n",
    "        \n",
    "        # If age is valid, continue processing\n",
    "        print(\"✅ Age validation passed!\")\n",
    "        return True\n",
    "        \n",
    "    except UnderageException as e:\n",
    "        print(f\"❌ Application rejected: {e}\")\n",
    "        return False\n",
    "    except Exception as e:\n",
    "        print(f\"⚠️  An unexpected error occurred: {e}\")\n",
    "        return False\n",
    "    \n",
    "applicants = [\n",
    "        {\"name\": \"Alice\", \"age\": 25, \"has_documents\": True, \"fee_paid\": True},\n",
    "        {\"name\": \"Bob\", \"age\": 17, \"has_documents\": True, \"fee_paid\": True},\n",
    "        {\"name\": \"Charlie\", \"age\": 20, \"has_documents\": False, \"fee_paid\": True},\n",
    "        {\"name\": \"Diana\", \"age\": 22, \"has_documents\": True, \"fee_paid\": False}\n",
    "    ]\n",
    "\n",
    "for applicant in applicants:\n",
    "    print (f\"{applicant['name']}'s age : {applicant['age']}\")\n",
    "    validate_passport_application(applicant[\"age\"])\n",
    "    print (\"--------------\")"
   ]
  },
  {
   "cell_type": "markdown",
   "metadata": {},
   "source": [
    "Start using Exception Handling as a standard coding practise henceforth."
   ]
  }
 ],
 "metadata": {
  "kernelspec": {
   "display_name": "Python 3",
   "language": "python",
   "name": "python3"
  },
  "language_info": {
   "codemirror_mode": {
    "name": "ipython",
    "version": 3
   },
   "file_extension": ".py",
   "mimetype": "text/x-python",
   "name": "python",
   "nbconvert_exporter": "python",
   "pygments_lexer": "ipython3",
   "version": "3.11.2"
  }
 },
 "nbformat": 4,
 "nbformat_minor": 2
}
