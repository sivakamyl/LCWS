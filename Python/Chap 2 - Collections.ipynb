{
 "cells": [
  {
   "cell_type": "markdown",
   "metadata": {},
   "source": [
    "<h2>Collections</h2>"
   ]
  },
  {
   "cell_type": "markdown",
   "metadata": {},
   "source": [
    "Python collections are specialized container data types that provide alternatives to Python's general-purpose built-in containers like lists, tuples, sets, and dictionaries. They are defined in the collections module and offer additional functionality and performance benefits for specific use cases."
   ]
  },
  {
   "cell_type": "markdown",
   "metadata": {},
   "source": [
    "<h3>Lists</h3>"
   ]
  },
  {
   "cell_type": "markdown",
   "metadata": {},
   "source": [
    "Lists are collections of items in an ordered fashion. Lists are changeable, and allow duplicate values. The items in the list could be of different types."
   ]
  },
  {
   "cell_type": "code",
   "execution_count": 35,
   "metadata": {},
   "outputs": [],
   "source": [
    "fruits = [\"Kiwi\", \"Banana\",\"Chiku\"]\n",
    "studentMarks = [1,\"Shiva\",99.0,98.5,90.8,96.8,95.0] # List with RollNo, Name, Marks in Sub 1-5"
   ]
  },
  {
   "cell_type": "code",
   "execution_count": 36,
   "metadata": {},
   "outputs": [
    {
     "name": "stdout",
     "output_type": "stream",
     "text": [
      "Initial cart: ['milk', 'eggs', 'bread']\n",
      "Count : 3\n",
      "milk\n",
      "bread\n",
      "Last item in cart with - index : bread\n",
      "First item in cart with - index : milk\n"
     ]
    }
   ],
   "source": [
    "# Shopping cart example\n",
    "cart = [\"milk\", \"eggs\", \"bread\"]\n",
    "print(f\"Initial cart: {cart}\")\n",
    "\n",
    "# Length (number of items) of list\n",
    "print (f\"Count : {len(cart)}\")\n",
    "\n",
    "# Position of each item in list is called INDEX. By default index starts at 0.\n",
    "# So index of \"milk\" is 0, \"eggs\" is 1 and \"bread\" is 2.\n",
    "print (cart[0])\n",
    "print (cart[2])\n",
    "\n",
    "# You can use - to go from back\n",
    "print (f\"Last item in cart with - index : {cart[-1]}\") #prints the last value\n",
    "print (f\"First item in cart with - index : {cart[-len(cart)]}\") #prints the first value\n"
   ]
  },
  {
   "cell_type": "code",
   "execution_count": 37,
   "metadata": {},
   "outputs": [
    {
     "ename": "IndexError",
     "evalue": "list index out of range",
     "output_type": "error",
     "traceback": [
      "\u001b[31m---------------------------------------------------------------------------\u001b[39m",
      "\u001b[31mIndexError\u001b[39m                                Traceback (most recent call last)",
      "\u001b[36mCell\u001b[39m\u001b[36m \u001b[39m\u001b[32mIn[37]\u001b[39m\u001b[32m, line 2\u001b[39m\n\u001b[32m      1\u001b[39m \u001b[38;5;66;03m# If you try with a larger number than count, it throws \"Index Error\"\u001b[39;00m\n\u001b[32m----> \u001b[39m\u001b[32m2\u001b[39m \u001b[38;5;28mprint\u001b[39m (\u001b[33mf\u001b[39m\u001b[33m\"\u001b[39m\u001b[33mLast item in cart with - index : \u001b[39m\u001b[38;5;132;01m{\u001b[39;00m\u001b[43mcart\u001b[49m\u001b[43m[\u001b[49m\u001b[43m-\u001b[49m\u001b[32;43m7\u001b[39;49m\u001b[43m]\u001b[49m\u001b[38;5;132;01m}\u001b[39;00m\u001b[33m\"\u001b[39m)\n",
      "\u001b[31mIndexError\u001b[39m: list index out of range"
     ]
    }
   ],
   "source": [
    "\n",
    "# If you try with a larger number than count, it throws \"Index Error\"\n",
    "print (f\"Last item in cart with - index : {cart[-7]}\")\n"
   ]
  },
  {
   "cell_type": "code",
   "execution_count": 22,
   "metadata": {},
   "outputs": [
    {
     "name": "stdout",
     "output_type": "stream",
     "text": [
      "After adding butter: ['milk', 'eggs', 'bread', 'butter']\n",
      "After adding cheese: ['milk', 'cheese', 'eggs', 'bread', 'butter']\n",
      "Removed cheese, cart now: ['milk', 'eggs', 'bread', 'butter']\n",
      "Removed 'butter', cart now: ['milk', 'eggs', 'bread']\n",
      "Removed 'eggs', cart now: ['milk', 'bread']\n"
     ]
    }
   ],
   "source": [
    "# Adding items to list \n",
    "cart.append(\"butter\")\n",
    "print(f\"After adding butter: {cart}\")\n",
    "\n",
    "cart.insert(1, \"cheese\")\n",
    "print(f\"After adding cheese: {cart}\")\n",
    "\n",
    "# Removing items from list\n",
    "cart.remove(\"cheese\") # This removes the first occurrence of the item\n",
    "print(f\"Removed cheese, cart now: {cart}\")\n",
    "\n",
    "# Uncomment the following and see what error comes up!\n",
    "#cart.remove(\"eggs\")\n",
    "\n",
    "# Pop removes last item from the list\n",
    "last_item = cart.pop()\n",
    "print(f\"Removed '{last_item}', cart now: {cart}\")\n",
    "\n",
    "# Pop removes item in index from the list\n",
    "pipIndex_item = cart.pop(1)\n",
    "print(f\"Removed '{pipIndex_item}', cart now: {cart}\")"
   ]
  },
  {
   "cell_type": "code",
   "execution_count": 24,
   "metadata": {},
   "outputs": [
    {
     "ename": "NameError",
     "evalue": "name 'cart' is not defined",
     "output_type": "error",
     "traceback": [
      "\u001b[31m---------------------------------------------------------------------------\u001b[39m",
      "\u001b[31mNameError\u001b[39m                                 Traceback (most recent call last)",
      "\u001b[36mCell\u001b[39m\u001b[36m \u001b[39m\u001b[32mIn[24]\u001b[39m\u001b[32m, line 2\u001b[39m\n\u001b[32m      1\u001b[39m \u001b[38;5;66;03m# delete item from list\u001b[39;00m\n\u001b[32m----> \u001b[39m\u001b[32m2\u001b[39m \u001b[38;5;28;01mdel\u001b[39;00m \u001b[43mcart\u001b[49m[\u001b[32m1\u001b[39m]\n\u001b[32m      3\u001b[39m \u001b[38;5;28mprint\u001b[39m (cart)\n\u001b[32m      5\u001b[39m \u001b[38;5;66;03m# del the whole list\u001b[39;00m\n",
      "\u001b[31mNameError\u001b[39m: name 'cart' is not defined"
     ]
    }
   ],
   "source": [
    "# delete item from list\n",
    "del cart[1]\n",
    "print (cart)\n",
    "\n",
    "# del the whole list\n",
    "del cart\n",
    "\n",
    "# Uncomment the following and try printing cart now! What is the error?\n",
    "# print (cart)"
   ]
  },
  {
   "cell_type": "code",
   "execution_count": 30,
   "metadata": {},
   "outputs": [
    {
     "name": "stdout",
     "output_type": "stream",
     "text": [
      "Reverse List : ['Chiku', 'Banana', 'Kiwi']\n"
     ]
    }
   ],
   "source": [
    "# reverse a list\n",
    "fruits = [\"Kiwi\", \"Banana\",\"Chiku\"]\n",
    "fruits.reverse()\n",
    "print (f\"Reverse List : {fruits}\")\n"
   ]
  },
  {
   "cell_type": "code",
   "execution_count": 27,
   "metadata": {},
   "outputs": [
    {
     "name": "stdout",
     "output_type": "stream",
     "text": [
      "Sorted List in ascending order: ['Banana', 'Chiku', 'Kiwi']\n",
      "Sorted List in descending order: ['Kiwi', 'Chiku', 'Banana']\n"
     ]
    }
   ],
   "source": [
    "# Sorting lists\n",
    "fruits = [\"Kiwi\", \"Banana\",\"Chiku\"]\n",
    "fruits.sort()\n",
    "print (f\"Sorted List in ascending order: {fruits}\")\n",
    "\n",
    "# Descending Order\n",
    "fruits.sort(reverse = True)\n",
    "print (f\"Sorted List in descending order: {fruits}\")"
   ]
  },
  {
   "cell_type": "code",
   "execution_count": 28,
   "metadata": {},
   "outputs": [
    {
     "name": "stdout",
     "output_type": "stream",
     "text": [
      "Sorted List : ['Banana', 'Chiku', 'Kiwi', 'apple']\n"
     ]
    }
   ],
   "source": [
    "# NOTE: Sorting is case-sensitive - so it sorts all strings starting with uppercase and then sorts lowercase\n",
    "\n",
    "fruits = [\"Kiwi\", \"Banana\",\"Chiku\",\"apple\"]\n",
    "fruits.sort()\n",
    "print (f\"Sorted List : {fruits}\")\n"
   ]
  },
  {
   "cell_type": "code",
   "execution_count": 29,
   "metadata": {},
   "outputs": [
    {
     "name": "stdout",
     "output_type": "stream",
     "text": [
      "Sorted List as case-insensitive : ['apple', 'Banana', 'Chiku', 'Kiwi']\n"
     ]
    }
   ],
   "source": [
    "# To make this case-insensitive, do this\n",
    "fruits = [\"Kiwi\", \"Banana\",\"Chiku\",\"apple\"]\n",
    "fruits.sort(key = str.lower)\n",
    "print (f\"Sorted List as case-insensitive : {fruits}\")"
   ]
  },
  {
   "cell_type": "markdown",
   "metadata": {},
   "source": [
    "<h3>Tuples</h3>"
   ]
  },
  {
   "cell_type": "code",
   "execution_count": 3,
   "metadata": {},
   "outputs": [
    {
     "name": "stdout",
     "output_type": "stream",
     "text": [
      "Latitude: 40.7128, Longitude: -74.006\n"
     ]
    }
   ],
   "source": [
    "\n",
    "# Tuples - GPS coordinates (immutable)\n",
    "home_location = (40.7128, -74.0060)  # New York coordinates\n",
    "print(f\"Latitude: {home_location[0]}, Longitude: {home_location[1]}\")"
   ]
  },
  {
   "cell_type": "code",
   "execution_count": 31,
   "metadata": {},
   "outputs": [
    {
     "name": "stdout",
     "output_type": "stream",
     "text": [
      "Using +: \n",
      "\n",
      "['a', 'b', 'c', 1, 2, 3]\n",
      "Using extend():\n",
      "\n",
      "['a', 'b', 'c', 1, 2, 3]\n"
     ]
    }
   ],
   "source": [
    "# Concatenate lists\n",
    "list1 = [\"a\", \"b\" , \"c\"]\n",
    "list2 = [100, 20, 3]\n",
    "\n",
    "print (\"Using +: \\n\")\n",
    "print (list1+list2)\n",
    "\n",
    "print (\"Using extend():\\n\")\n",
    "list1.extend(list2)\n",
    "print(list1)"
   ]
  },
  {
   "cell_type": "markdown",
   "metadata": {},
   "source": [
    "<h3>Sets</h3>"
   ]
  },
  {
   "cell_type": "markdown",
   "metadata": {},
   "source": [
    "A set is a collection which always has unique items that are unordered, unchangeable, and unindexed. So, index will not work. "
   ]
  },
  {
   "cell_type": "code",
   "execution_count": 4,
   "metadata": {},
   "outputs": [
    {
     "name": "stdout",
     "output_type": "stream",
     "text": [
      "All tags: {'python', 'coding', 'tutorial', 'programming', 'machine-learning', 'ai'}\n",
      "Common tags: {'python'}\n"
     ]
    }
   ],
   "source": [
    "# Sets - Unique tags system\n",
    "blog_tags = {\"python\", \"programming\", \"tutorial\", \"coding\"}\n",
    "new_tags = {\"python\", \"machine-learning\", \"ai\"}\n",
    "\n",
    "all_tags = blog_tags.union(new_tags)\n",
    "common_tags = blog_tags.intersection(new_tags)\n",
    "\n",
    "print(f\"All tags: {all_tags}\")\n",
    "print(f\"Common tags: {common_tags}\")"
   ]
  },
  {
   "cell_type": "code",
   "execution_count": 32,
   "metadata": {},
   "outputs": [
    {
     "name": "stdout",
     "output_type": "stream",
     "text": [
      "Added new tag: {'LCWS', 'python', 'coding', 'tutorial', 'programming', 'machine-learning', 'ai'}\n",
      "Removed tag: {'LCWS', 'python', 'coding', 'programming', 'machine-learning', 'ai'}\n"
     ]
    }
   ],
   "source": [
    "all_tags.add(\"LCWS\")\n",
    "print (f\"Added new tag: {all_tags}\")\n",
    "\n",
    "all_tags.remove(\"tutorial\")\n",
    "print (f\"Removed tag: {all_tags}\")"
   ]
  },
  {
   "cell_type": "code",
   "execution_count": 34,
   "metadata": {},
   "outputs": [
    {
     "name": "stdout",
     "output_type": "stream",
     "text": [
      "{'coding', 'machine-learning', 'tutorial', 'programming'}\n"
     ]
    }
   ],
   "source": [
    "blog_tags = {\"python\", \"programming\", \"tutorial\", \"coding\", \"ai\"}\n",
    "new_tags = {\"python\", \"machine-learning\", \"ai\"}\n",
    "\n",
    "# To combine 2 sets only keeping unique items\n",
    "combinedSet = blog_tags.symmetric_difference(new_tags)\n",
    "print(combinedSet)"
   ]
  },
  {
   "cell_type": "markdown",
   "metadata": {},
   "source": [
    "<h3>Dictionary</h3>"
   ]
  },
  {
   "cell_type": "markdown",
   "metadata": {},
   "source": [
    "Key-Value Pairs. JSON-like. Very important data structure wrt coding interviews."
   ]
  },
  {
   "cell_type": "code",
   "execution_count": 2,
   "metadata": {},
   "outputs": [
    {
     "ename": "SyntaxError",
     "evalue": "f-string: unmatched '[' (3150281212.py, line 11)",
     "output_type": "error",
     "traceback": [
      "  \u001b[36mCell\u001b[39m\u001b[36m \u001b[39m\u001b[32mIn[2]\u001b[39m\u001b[32m, line 11\u001b[39m\n\u001b[31m    \u001b[39m\u001b[31mprint (f\"Email Id: {user_profile[\"email\"]}\\n\")\u001b[39m\n                                      ^\n\u001b[31mSyntaxError\u001b[39m\u001b[31m:\u001b[39m f-string: unmatched '['\n"
     ]
    }
   ],
   "source": [
    "# User profile example\n",
    "user_profile = {\n",
    "    \"name\": \"John Doe\",\n",
    "    \"age\": 28,\n",
    "    \"email\": \"john@example.com\",\n",
    "    \"hobbies\": [\"reading\", \"gaming\", \"hiking\"],\n",
    "    \"premium\": True\n",
    "}\n",
    "\n",
    "# To get the email of the user, we access using the Key name\n",
    "print (f\"Email Id: {user_profile['email']}\\n\")\n",
    "\n",
    "# \"name\", \"age\", \"email\", \"hobbies\", \"premium\" are KEYS\n",
    "profileKeys = user_profile.keys()\n",
    "print (f\"Keys : {profileKeys}\")\n",
    "\n",
    "# Corresponding data are VALUES\n",
    "profileValues = user_profile.values()\n",
    "print (f\"Values : {profileValues}\")\n",
    "\n",
    "# Is this user is premium access?\n",
    "print (user_profile[\"premium\"]) # Use the key inside [] to access the values"
   ]
  },
  {
   "cell_type": "code",
   "execution_count": null,
   "metadata": {},
   "outputs": [],
   "source": [
    "\n",
    "# Accessing and modifying\n",
    "print(f\"User: {user_profile['name']}\")\n",
    "user_profile[\"age\"] = 29\n",
    "user_profile[\"location\"] = \"New York\"  # Adding new key\n",
    "print(f\"After mofifications: \\n{user_profile}\")\n",
    "\n",
    "# Removing items - let's not track \"hobbies\" anymore\n",
    "user_profile.pop(\"hobbies\")\n",
    "print(f\"After removal: \\n{user_profile}\")\n"
   ]
  },
  {
   "cell_type": "code",
   "execution_count": null,
   "metadata": {},
   "outputs": [],
   "source": [
    "\n",
    "# Nested dictionaries - Restaurant menu\n",
    "menu = {\n",
    "    \"appetizers\": {\n",
    "        \"soup\": 5.99,\n",
    "        \"salad\": 7.99,\n",
    "        \"wings\": 9.99\n",
    "    },\n",
    "    \"main_course\": {\n",
    "        \"pasta\": 12.99,\n",
    "        \"steak\": 24.99,\n",
    "        \"salmon\": 18.99\n",
    "    }\n",
    "}\n",
    "\n",
    "print(f\"Steak price: ${menu['main_course']['steak']}\")"
   ]
  }
 ],
 "metadata": {
  "kernelspec": {
   "display_name": "Python 3",
   "language": "python",
   "name": "python3"
  },
  "language_info": {
   "codemirror_mode": {
    "name": "ipython",
    "version": 3
   },
   "file_extension": ".py",
   "mimetype": "text/x-python",
   "name": "python",
   "nbconvert_exporter": "python",
   "pygments_lexer": "ipython3",
   "version": "3.11.2"
  }
 },
 "nbformat": 4,
 "nbformat_minor": 2
}
