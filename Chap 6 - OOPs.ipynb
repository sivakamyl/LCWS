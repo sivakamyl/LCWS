{
 "cells": [
  {
   "cell_type": "markdown",
   "metadata": {},
   "source": [
    "<h4>Object-Oriented Programming</h4>"
   ]
  },
  {
   "cell_type": "markdown",
   "metadata": {},
   "source": [
    "Pre-Requisites - Prior knowledge about OOPs concepts. Please brush them up before proceeding."
   ]
  },
  {
   "cell_type": "markdown",
   "metadata": {},
   "source": [
    "Python is an object oriented programming language.\n",
    "\n",
    "Almost everything in Python is an object, with its properties and methods.\n",
    "\n",
    "A Class is like a template or \"blueprint\" for objects - defines the general properties and functionality of the class.\n",
    "\n",
    "Ex: If you have run an e-commerce business with multiple products, the name, price, product type, quantity, rating, review are properties of the class that defines the PRODUCT. Functionality could be getProduct(), addRating(), addReview() etc are functions.\n",
    "\n",
    "Let's start with a simple class and object creation\n"
   ]
  },
  {
   "cell_type": "code",
   "execution_count": 2,
   "metadata": {},
   "outputs": [
    {
     "name": "stdout",
     "output_type": "stream",
     "text": [
      "P1's name is Ludo\n",
      "Product P2 costs 9.0\n",
      "P1's review is [{'rating': 4, 'comment': 'Good game'}]\n",
      "P2's review is []\n"
     ]
    }
   ],
   "source": [
    "class Product:\n",
    "    def __init__(self, name, price, category): # This is a contructor - to initialise the objects with some values\n",
    "        self.name = name\n",
    "        self.price = price\n",
    "        self.category = category\n",
    "        self.reviews = []\n",
    "\n",
    "    def add_review(self, rating, comment): # self is a pointer to the current object that is calling this function.\n",
    "        \"\"\"Add a product review\"\"\"\n",
    "        if 1 <= rating <= 5:\n",
    "            self.reviews.append({\"rating\": rating, \"comment\": comment})\n",
    "        else:\n",
    "            raise ValueError(\"Rating must be between 1 and 5\")\n",
    "\n",
    "# Create a Product - P1 is the object; Product is the class\n",
    "P1 = Product(\"Ludo\", 299.0,\"Kids Games\")\n",
    "P2 = Product(\"Pens\", 9.0,\"Stationary\")\n",
    "\n",
    "print (f\"P1's name is {P1.name}\")\n",
    "print (f\"Product P2 costs {P2.price}\")\n",
    "\n",
    "# To add review to P1, use the add_review function\n",
    "P1.add_review(rating= 4, comment= \"Good game\") # add_review's \"self\" ensures that only P1's reviews are modified\n",
    "print (f\"P1's review is {P1.reviews}\")\n",
    "# P2 has no reviews. Let's check\n",
    "print (f\"P2's review is {P2.reviews}\")\n",
    "\n"
   ]
  },
  {
   "cell_type": "markdown",
   "metadata": {},
   "source": [
    "An elaborate excample with Inheritence"
   ]
  },
  {
   "cell_type": "code",
   "execution_count": null,
   "metadata": {},
   "outputs": [
    {
     "name": "stdout",
     "output_type": "stream",
     "text": [
      "Gaming Laptop: $1080.0\n",
      "Warranty: 2 year warranty\n",
      "Average rating: 4.5/5\n"
     ]
    }
   ],
   "source": [
    "# Real-world: E-commerce product system\n",
    "class Product:\n",
    "    def __init__(self, name, price, category):\n",
    "        self.name = name\n",
    "        self.price = price\n",
    "        self.category = category\n",
    "        self.reviews = []\n",
    "    \n",
    "    def apply_discount(self, percentage):\n",
    "        \"\"\"Apply discount to product price\"\"\"\n",
    "        discount = self.price * (percentage / 100)\n",
    "        self.price -= discount\n",
    "        return self.price\n",
    "    \n",
    "    def add_review(self, rating, comment):\n",
    "        \"\"\"Add a product review\"\"\"\n",
    "        self.reviews.append({\"rating\": rating, \"comment\": comment})\n",
    "        \n",
    "    def average_rating(self):\n",
    "        \"\"\"Calculate average rating\"\"\"\n",
    "        if not self.reviews:\n",
    "            return 0\n",
    "        return sum(review[\"rating\"] for review in self.reviews) / len(self.reviews)\n",
    "\n",
    "# Inheritance: Electronic product\n",
    "class ElectronicProduct(Product):\n",
    "    def __init__(self, name, price, warranty_years):\n",
    "        super().__init__(name, price, \"Electronics\")\n",
    "        self.warranty_years = warranty_years\n",
    "    \n",
    "    def get_warranty_info(self):\n",
    "        return f\"{self.warranty_years} year warranty\"\n",
    "\n",
    "# Using the classes\n",
    "laptop = ElectronicProduct(\"Gaming Laptop\", 1200, 2)\n",
    "laptop.apply_discount(10)\n",
    "laptop.add_review(5, \"Amazing performance!\")\n",
    "laptop.add_review(4, \"Good but a bit heavy\")\n",
    "\n",
    "print(f\"{laptop.name}: ${laptop.price}\")\n",
    "print(f\"Warranty: {laptop.get_warranty_info()}\")\n",
    "print(f\"Average rating: {laptop.average_rating():.1f}/5\")"
   ]
  },
  {
   "cell_type": "markdown",
   "metadata": {},
   "source": [
    "<h4>Within Exceptions - one more example</h4>"
   ]
  },
  {
   "cell_type": "code",
   "execution_count": null,
   "metadata": {},
   "outputs": [
    {
     "name": "stdout",
     "output_type": "stream",
     "text": [
      "Withdrew $500. New balance: $500\n",
      "Transaction failed: Insufficient funds\n",
      "Deposit failed: Deposit amount must be positive\n",
      "Transaction processing complete\n"
     ]
    }
   ],
   "source": [
    "# Real-world: Bank transaction system\n",
    "class BankAccount:\n",
    "    def __init__(self, balance=0):\n",
    "        self.balance = balance\n",
    "    \n",
    "    def withdraw(self, amount):\n",
    "        try:\n",
    "            if amount <= 0:\n",
    "                raise ValueError(\"Amount must be positive\")\n",
    "            if amount > self.balance:\n",
    "                raise ValueError(\"Insufficient funds\")\n",
    "            \n",
    "            self.balance -= amount\n",
    "            print(f\"Withdrew ${amount}. New balance: ${self.balance}\")\n",
    "            \n",
    "        except ValueError as e:\n",
    "            print(f\"Transaction failed: {e}\")\n",
    "    \n",
    "    def deposit(self, amount):\n",
    "        try:\n",
    "            if amount <= 0:\n",
    "                raise ValueError(\"Deposit amount must be positive\")\n",
    "            \n",
    "            self.balance += amount\n",
    "            print(f\"Deposited ${amount}. New balance: ${self.balance}\")\n",
    "            \n",
    "        except ValueError as e:\n",
    "            print(f\"Deposit failed: {e}\")\n",
    "\n",
    "# Using the bank account\n",
    "account = BankAccount(1000)\n",
    "\n",
    "try:\n",
    "    account.withdraw(500)\n",
    "    account.withdraw(600)  # This should fail\n",
    "    account.deposit(-100)  # This should fail\n",
    "    \n",
    "except Exception as e:\n",
    "    print(f\"Unexpected error: {e}\")\n",
    "\n",
    "finally:\n",
    "    print(\"Transaction processing complete\")"
   ]
  }
 ],
 "metadata": {
  "kernelspec": {
   "display_name": "Python 3",
   "language": "python",
   "name": "python3"
  },
  "language_info": {
   "codemirror_mode": {
    "name": "ipython",
    "version": 3
   },
   "file_extension": ".py",
   "mimetype": "text/x-python",
   "name": "python",
   "nbconvert_exporter": "python",
   "pygments_lexer": "ipython3",
   "version": "3.11.2"
  }
 },
 "nbformat": 4,
 "nbformat_minor": 2
}
